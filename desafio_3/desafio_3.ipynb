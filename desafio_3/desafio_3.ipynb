{
  "nbformat": 4,
  "nbformat_minor": 0,
  "metadata": {
    "colab": {
      "provenance": []
    },
    "kernelspec": {
      "name": "python3",
      "display_name": "Python 3"
    },
    "language_info": {
      "name": "python"
    }
  },
  "cells": [
    {
      "cell_type": "markdown",
      "source": [
        "###**Desafío #3**\n",
        "\n",
        "Dataset creado a partir de los últimos 16 discursos del presidente:\n",
        "https://www.casarosada.gob.ar/informacion/discursos?start=1\n",
        "\n",
        "El dataset es chico, para obtener mejores resultados se podrían agregar más discursos.\n"
      ],
      "metadata": {
        "id": "VIexT_mE9Inb"
      }
    },
    {
      "cell_type": "code",
      "execution_count": 1,
      "metadata": {
        "id": "dY4rEaSCTQv2"
      },
      "outputs": [],
      "source": [
        "import pandas as pd\n",
        "import matplotlib.pyplot as plt\n",
        "import seaborn as sns\n",
        "import multiprocessing\n",
        "from gensim.models import Word2Vec\n",
        "from keras.preprocessing.text import text_to_word_sequence\n",
        "from gensim.models.callbacks import CallbackAny2Vec"
      ]
    },
    {
      "cell_type": "code",
      "source": [
        "# carga del dataset\n",
        "\n",
        "df = pd.read_csv('discursos.txt', sep='/n', header=None)\n",
        "\n",
        "print(\"Cantidad de documentos:\", df.shape[0])\n",
        "\n",
        "df.head()"
      ],
      "metadata": {
        "colab": {
          "base_uri": "https://localhost:8080/",
          "height": 270
        },
        "id": "O9xEL2akTTvs",
        "outputId": "8b6d994f-8647-4035-9d6e-e1b76da08203"
      },
      "execution_count": 3,
      "outputs": [
        {
          "output_type": "stream",
          "name": "stdout",
          "text": [
            "Cantidad de documentos: 373\n"
          ]
        },
        {
          "output_type": "stream",
          "name": "stderr",
          "text": [
            "<ipython-input-3-10847f988572>:3: ParserWarning: Falling back to the 'python' engine because the 'c' engine does not support regex separators (separators > 1 char and different from '\\s+' are interpreted as regex); you can avoid this warning by specifying engine='python'.\n",
            "  df = pd.read_csv('discursos.txt', sep='/n', header=None)\n"
          ]
        },
        {
          "output_type": "execute_result",
          "data": {
            "text/plain": [
              "                                                   0\n",
              "0  Para nosotros la Argentina no es Puerto Madero...\n",
              "1  Muchas veces se piensa que la obra pública se ...\n",
              "2  Tenemos más de 6700 obras públicas iniciadas y...\n",
              "3  Las empezamos y las terminamos y nunca a nadie...\n",
              "4  No, porque la verdad lo que hacemos es trabaja..."
            ],
            "text/html": [
              "\n",
              "  <div id=\"df-692d3b7e-0e4f-432e-870e-77e7a55e1582\" class=\"colab-df-container\">\n",
              "    <div>\n",
              "<style scoped>\n",
              "    .dataframe tbody tr th:only-of-type {\n",
              "        vertical-align: middle;\n",
              "    }\n",
              "\n",
              "    .dataframe tbody tr th {\n",
              "        vertical-align: top;\n",
              "    }\n",
              "\n",
              "    .dataframe thead th {\n",
              "        text-align: right;\n",
              "    }\n",
              "</style>\n",
              "<table border=\"1\" class=\"dataframe\">\n",
              "  <thead>\n",
              "    <tr style=\"text-align: right;\">\n",
              "      <th></th>\n",
              "      <th>0</th>\n",
              "    </tr>\n",
              "  </thead>\n",
              "  <tbody>\n",
              "    <tr>\n",
              "      <th>0</th>\n",
              "      <td>Para nosotros la Argentina no es Puerto Madero...</td>\n",
              "    </tr>\n",
              "    <tr>\n",
              "      <th>1</th>\n",
              "      <td>Muchas veces se piensa que la obra pública se ...</td>\n",
              "    </tr>\n",
              "    <tr>\n",
              "      <th>2</th>\n",
              "      <td>Tenemos más de 6700 obras públicas iniciadas y...</td>\n",
              "    </tr>\n",
              "    <tr>\n",
              "      <th>3</th>\n",
              "      <td>Las empezamos y las terminamos y nunca a nadie...</td>\n",
              "    </tr>\n",
              "    <tr>\n",
              "      <th>4</th>\n",
              "      <td>No, porque la verdad lo que hacemos es trabaja...</td>\n",
              "    </tr>\n",
              "  </tbody>\n",
              "</table>\n",
              "</div>\n",
              "    <div class=\"colab-df-buttons\">\n",
              "\n",
              "  <div class=\"colab-df-container\">\n",
              "    <button class=\"colab-df-convert\" onclick=\"convertToInteractive('df-692d3b7e-0e4f-432e-870e-77e7a55e1582')\"\n",
              "            title=\"Convert this dataframe to an interactive table.\"\n",
              "            style=\"display:none;\">\n",
              "\n",
              "  <svg xmlns=\"http://www.w3.org/2000/svg\" height=\"24px\" viewBox=\"0 -960 960 960\">\n",
              "    <path d=\"M120-120v-720h720v720H120Zm60-500h600v-160H180v160Zm220 220h160v-160H400v160Zm0 220h160v-160H400v160ZM180-400h160v-160H180v160Zm440 0h160v-160H620v160ZM180-180h160v-160H180v160Zm440 0h160v-160H620v160Z\"/>\n",
              "  </svg>\n",
              "    </button>\n",
              "\n",
              "  <style>\n",
              "    .colab-df-container {\n",
              "      display:flex;\n",
              "      gap: 12px;\n",
              "    }\n",
              "\n",
              "    .colab-df-convert {\n",
              "      background-color: #E8F0FE;\n",
              "      border: none;\n",
              "      border-radius: 50%;\n",
              "      cursor: pointer;\n",
              "      display: none;\n",
              "      fill: #1967D2;\n",
              "      height: 32px;\n",
              "      padding: 0 0 0 0;\n",
              "      width: 32px;\n",
              "    }\n",
              "\n",
              "    .colab-df-convert:hover {\n",
              "      background-color: #E2EBFA;\n",
              "      box-shadow: 0px 1px 2px rgba(60, 64, 67, 0.3), 0px 1px 3px 1px rgba(60, 64, 67, 0.15);\n",
              "      fill: #174EA6;\n",
              "    }\n",
              "\n",
              "    .colab-df-buttons div {\n",
              "      margin-bottom: 4px;\n",
              "    }\n",
              "\n",
              "    [theme=dark] .colab-df-convert {\n",
              "      background-color: #3B4455;\n",
              "      fill: #D2E3FC;\n",
              "    }\n",
              "\n",
              "    [theme=dark] .colab-df-convert:hover {\n",
              "      background-color: #434B5C;\n",
              "      box-shadow: 0px 1px 3px 1px rgba(0, 0, 0, 0.15);\n",
              "      filter: drop-shadow(0px 1px 2px rgba(0, 0, 0, 0.3));\n",
              "      fill: #FFFFFF;\n",
              "    }\n",
              "  </style>\n",
              "\n",
              "    <script>\n",
              "      const buttonEl =\n",
              "        document.querySelector('#df-692d3b7e-0e4f-432e-870e-77e7a55e1582 button.colab-df-convert');\n",
              "      buttonEl.style.display =\n",
              "        google.colab.kernel.accessAllowed ? 'block' : 'none';\n",
              "\n",
              "      async function convertToInteractive(key) {\n",
              "        const element = document.querySelector('#df-692d3b7e-0e4f-432e-870e-77e7a55e1582');\n",
              "        const dataTable =\n",
              "          await google.colab.kernel.invokeFunction('convertToInteractive',\n",
              "                                                    [key], {});\n",
              "        if (!dataTable) return;\n",
              "\n",
              "        const docLinkHtml = 'Like what you see? Visit the ' +\n",
              "          '<a target=\"_blank\" href=https://colab.research.google.com/notebooks/data_table.ipynb>data table notebook</a>'\n",
              "          + ' to learn more about interactive tables.';\n",
              "        element.innerHTML = '';\n",
              "        dataTable['output_type'] = 'display_data';\n",
              "        await google.colab.output.renderOutput(dataTable, element);\n",
              "        const docLink = document.createElement('div');\n",
              "        docLink.innerHTML = docLinkHtml;\n",
              "        element.appendChild(docLink);\n",
              "      }\n",
              "    </script>\n",
              "  </div>\n",
              "\n",
              "\n",
              "<div id=\"df-f7fccc8b-c9dc-420a-beb0-b15d2d124757\">\n",
              "  <button class=\"colab-df-quickchart\" onclick=\"quickchart('df-f7fccc8b-c9dc-420a-beb0-b15d2d124757')\"\n",
              "            title=\"Suggest charts.\"\n",
              "            style=\"display:none;\">\n",
              "\n",
              "<svg xmlns=\"http://www.w3.org/2000/svg\" height=\"24px\"viewBox=\"0 0 24 24\"\n",
              "     width=\"24px\">\n",
              "    <g>\n",
              "        <path d=\"M19 3H5c-1.1 0-2 .9-2 2v14c0 1.1.9 2 2 2h14c1.1 0 2-.9 2-2V5c0-1.1-.9-2-2-2zM9 17H7v-7h2v7zm4 0h-2V7h2v10zm4 0h-2v-4h2v4z\"/>\n",
              "    </g>\n",
              "</svg>\n",
              "  </button>\n",
              "\n",
              "<style>\n",
              "  .colab-df-quickchart {\n",
              "      --bg-color: #E8F0FE;\n",
              "      --fill-color: #1967D2;\n",
              "      --hover-bg-color: #E2EBFA;\n",
              "      --hover-fill-color: #174EA6;\n",
              "      --disabled-fill-color: #AAA;\n",
              "      --disabled-bg-color: #DDD;\n",
              "  }\n",
              "\n",
              "  [theme=dark] .colab-df-quickchart {\n",
              "      --bg-color: #3B4455;\n",
              "      --fill-color: #D2E3FC;\n",
              "      --hover-bg-color: #434B5C;\n",
              "      --hover-fill-color: #FFFFFF;\n",
              "      --disabled-bg-color: #3B4455;\n",
              "      --disabled-fill-color: #666;\n",
              "  }\n",
              "\n",
              "  .colab-df-quickchart {\n",
              "    background-color: var(--bg-color);\n",
              "    border: none;\n",
              "    border-radius: 50%;\n",
              "    cursor: pointer;\n",
              "    display: none;\n",
              "    fill: var(--fill-color);\n",
              "    height: 32px;\n",
              "    padding: 0;\n",
              "    width: 32px;\n",
              "  }\n",
              "\n",
              "  .colab-df-quickchart:hover {\n",
              "    background-color: var(--hover-bg-color);\n",
              "    box-shadow: 0 1px 2px rgba(60, 64, 67, 0.3), 0 1px 3px 1px rgba(60, 64, 67, 0.15);\n",
              "    fill: var(--button-hover-fill-color);\n",
              "  }\n",
              "\n",
              "  .colab-df-quickchart-complete:disabled,\n",
              "  .colab-df-quickchart-complete:disabled:hover {\n",
              "    background-color: var(--disabled-bg-color);\n",
              "    fill: var(--disabled-fill-color);\n",
              "    box-shadow: none;\n",
              "  }\n",
              "\n",
              "  .colab-df-spinner {\n",
              "    border: 2px solid var(--fill-color);\n",
              "    border-color: transparent;\n",
              "    border-bottom-color: var(--fill-color);\n",
              "    animation:\n",
              "      spin 1s steps(1) infinite;\n",
              "  }\n",
              "\n",
              "  @keyframes spin {\n",
              "    0% {\n",
              "      border-color: transparent;\n",
              "      border-bottom-color: var(--fill-color);\n",
              "      border-left-color: var(--fill-color);\n",
              "    }\n",
              "    20% {\n",
              "      border-color: transparent;\n",
              "      border-left-color: var(--fill-color);\n",
              "      border-top-color: var(--fill-color);\n",
              "    }\n",
              "    30% {\n",
              "      border-color: transparent;\n",
              "      border-left-color: var(--fill-color);\n",
              "      border-top-color: var(--fill-color);\n",
              "      border-right-color: var(--fill-color);\n",
              "    }\n",
              "    40% {\n",
              "      border-color: transparent;\n",
              "      border-right-color: var(--fill-color);\n",
              "      border-top-color: var(--fill-color);\n",
              "    }\n",
              "    60% {\n",
              "      border-color: transparent;\n",
              "      border-right-color: var(--fill-color);\n",
              "    }\n",
              "    80% {\n",
              "      border-color: transparent;\n",
              "      border-right-color: var(--fill-color);\n",
              "      border-bottom-color: var(--fill-color);\n",
              "    }\n",
              "    90% {\n",
              "      border-color: transparent;\n",
              "      border-bottom-color: var(--fill-color);\n",
              "    }\n",
              "  }\n",
              "</style>\n",
              "\n",
              "  <script>\n",
              "    async function quickchart(key) {\n",
              "      const quickchartButtonEl =\n",
              "        document.querySelector('#' + key + ' button');\n",
              "      quickchartButtonEl.disabled = true;  // To prevent multiple clicks.\n",
              "      quickchartButtonEl.classList.add('colab-df-spinner');\n",
              "      try {\n",
              "        const charts = await google.colab.kernel.invokeFunction(\n",
              "            'suggestCharts', [key], {});\n",
              "      } catch (error) {\n",
              "        console.error('Error during call to suggestCharts:', error);\n",
              "      }\n",
              "      quickchartButtonEl.classList.remove('colab-df-spinner');\n",
              "      quickchartButtonEl.classList.add('colab-df-quickchart-complete');\n",
              "    }\n",
              "    (() => {\n",
              "      let quickchartButtonEl =\n",
              "        document.querySelector('#df-f7fccc8b-c9dc-420a-beb0-b15d2d124757 button');\n",
              "      quickchartButtonEl.style.display =\n",
              "        google.colab.kernel.accessAllowed ? 'block' : 'none';\n",
              "    })();\n",
              "  </script>\n",
              "</div>\n",
              "    </div>\n",
              "  </div>\n"
            ]
          },
          "metadata": {},
          "execution_count": 3
        }
      ]
    },
    {
      "cell_type": "code",
      "source": [
        "# tokenización\n",
        "\n",
        "sentence_tokens = []\n",
        "for _, row in df[:None].iterrows():\n",
        "    sentence_tokens.append(text_to_word_sequence(row[0]))"
      ],
      "metadata": {
        "id": "5LYuIeXPUf05"
      },
      "execution_count": 4,
      "outputs": []
    },
    {
      "cell_type": "code",
      "source": [
        "# Durante el entrenamiento gensim por defecto no informa el \"loss\" en cada época\n",
        "# Sobrecargamos el callback para poder tener esta información\n",
        "class callback(CallbackAny2Vec):\n",
        "    \"\"\"\n",
        "    Callback to print loss after each epoch\n",
        "    \"\"\"\n",
        "    def __init__(self):\n",
        "        self.epoch = 0\n",
        "\n",
        "    def on_epoch_end(self, model):\n",
        "        loss = model.get_latest_training_loss()\n",
        "        if self.epoch == 0:\n",
        "            print('Loss after epoch {}: {}'.format(self.epoch, loss))\n",
        "        else:\n",
        "            print('Loss after epoch {}: {}'.format(self.epoch, loss- self.loss_previous_step))\n",
        "        self.epoch += 1\n",
        "        self.loss_previous_step = loss"
      ],
      "metadata": {
        "id": "AzNDLO4VU9eL"
      },
      "execution_count": 5,
      "outputs": []
    },
    {
      "cell_type": "code",
      "source": [
        "# Crearmos el modelo generador de vectores\n",
        "# En este caso utilizaremos la estructura modelo Skipgram\n",
        "w2v_model = Word2Vec(min_count=4,    # frecuencia mínima de palabra para incluirla en el vocabulario\n",
        "                     window=2,       # cant de palabras antes y desp de la predicha\n",
        "                     vector_size=300,# dimensionalidad de los vectores\n",
        "                     negative=20,    # cantidad de negative samples... 0 es no se usa\n",
        "                     workers=1,      # si tienen más cores pueden cambiar este valor\n",
        "                     sg=1)           # modelo 0:CBOW  1:skipgram"
      ],
      "metadata": {
        "id": "dxTzeU4ocjTv"
      },
      "execution_count": 6,
      "outputs": []
    },
    {
      "cell_type": "code",
      "source": [
        "# Obtener el vocabulario con los tokens\n",
        "w2v_model.build_vocab(sentence_tokens)"
      ],
      "metadata": {
        "id": "tZNcuL9BctDn"
      },
      "execution_count": 7,
      "outputs": []
    },
    {
      "cell_type": "code",
      "source": [
        "# Cantidad de filas/docs encontradas en el corpus\n",
        "print(\"Cantidad de docs en el corpus:\", w2v_model.corpus_count)"
      ],
      "metadata": {
        "colab": {
          "base_uri": "https://localhost:8080/"
        },
        "id": "DwCIwRj2cvmo",
        "outputId": "2cc6f6ae-a457-4f4d-e8da-d8e6d4aab32b"
      },
      "execution_count": 8,
      "outputs": [
        {
          "output_type": "stream",
          "name": "stdout",
          "text": [
            "Cantidad de docs en el corpus: 373\n"
          ]
        }
      ]
    },
    {
      "cell_type": "code",
      "source": [
        "# Cantidad de words encontradas en el corpus\n",
        "print(\"Cantidad de words distintas en el corpus:\", len(w2v_model.wv.index_to_key))"
      ],
      "metadata": {
        "colab": {
          "base_uri": "https://localhost:8080/"
        },
        "id": "9DdSbzzEcyeT",
        "outputId": "d92a127d-75b9-4303-c823-30fc593a6fed"
      },
      "execution_count": 9,
      "outputs": [
        {
          "output_type": "stream",
          "name": "stdout",
          "text": [
            "Cantidad de words distintas en el corpus: 568\n"
          ]
        }
      ]
    },
    {
      "cell_type": "code",
      "source": [
        "# Entrenamos el modelo generador de vectores\n",
        "# Utilizamos nuestro callback\n",
        "w2v_model.train(sentence_tokens,\n",
        "                 total_examples=w2v_model.corpus_count,\n",
        "                 epochs=500,\n",
        "                 compute_loss = True,\n",
        "                 callbacks=[callback()]\n",
        "                 )"
      ],
      "metadata": {
        "colab": {
          "base_uri": "https://localhost:8080/"
        },
        "id": "iQsvumToc07W",
        "outputId": "7c7f7c93-d345-47cf-8f00-f35504ff3cf1"
      },
      "execution_count": 10,
      "outputs": [
        {
          "output_type": "stream",
          "name": "stdout",
          "text": [
            "Loss after epoch 0: 144229.984375\n",
            "Loss after epoch 1: 78569.84375\n",
            "Loss after epoch 2: 76993.234375\n",
            "Loss after epoch 3: 77091.375\n",
            "Loss after epoch 4: 76466.375\n",
            "Loss after epoch 5: 75826.75\n",
            "Loss after epoch 6: 76359.5\n",
            "Loss after epoch 7: 77330.0\n",
            "Loss after epoch 8: 78335.1875\n",
            "Loss after epoch 9: 78209.8125\n",
            "Loss after epoch 10: 77021.875\n",
            "Loss after epoch 11: 76685.0\n",
            "Loss after epoch 12: 73148.4375\n",
            "Loss after epoch 13: 66092.75\n",
            "Loss after epoch 14: 65302.875\n",
            "Loss after epoch 15: 64040.375\n",
            "Loss after epoch 16: 63876.0\n",
            "Loss after epoch 17: 62348.375\n",
            "Loss after epoch 18: 62094.75\n",
            "Loss after epoch 19: 61057.75\n",
            "Loss after epoch 20: 60141.375\n",
            "Loss after epoch 21: 59357.0\n",
            "Loss after epoch 22: 58588.5\n",
            "Loss after epoch 23: 57900.5\n",
            "Loss after epoch 24: 56794.75\n",
            "Loss after epoch 25: 55235.25\n",
            "Loss after epoch 26: 55842.25\n",
            "Loss after epoch 27: 54654.75\n",
            "Loss after epoch 28: 53802.125\n",
            "Loss after epoch 29: 53729.5\n",
            "Loss after epoch 30: 50305.75\n",
            "Loss after epoch 31: 48066.5\n",
            "Loss after epoch 32: 48095.75\n",
            "Loss after epoch 33: 47226.5\n",
            "Loss after epoch 34: 47836.0\n",
            "Loss after epoch 35: 47730.25\n",
            "Loss after epoch 36: 46806.0\n",
            "Loss after epoch 37: 46662.5\n",
            "Loss after epoch 38: 47304.5\n",
            "Loss after epoch 39: 46471.75\n",
            "Loss after epoch 40: 45835.25\n",
            "Loss after epoch 41: 46044.75\n",
            "Loss after epoch 42: 46186.25\n",
            "Loss after epoch 43: 45713.75\n",
            "Loss after epoch 44: 45456.0\n",
            "Loss after epoch 45: 45732.75\n",
            "Loss after epoch 46: 45505.5\n",
            "Loss after epoch 47: 45283.25\n",
            "Loss after epoch 48: 45400.75\n",
            "Loss after epoch 49: 44229.5\n",
            "Loss after epoch 50: 45114.25\n",
            "Loss after epoch 51: 45596.25\n",
            "Loss after epoch 52: 44789.25\n",
            "Loss after epoch 53: 45232.75\n",
            "Loss after epoch 54: 45499.5\n",
            "Loss after epoch 55: 45489.0\n",
            "Loss after epoch 56: 45473.25\n",
            "Loss after epoch 57: 45589.75\n",
            "Loss after epoch 58: 45125.75\n",
            "Loss after epoch 59: 44678.5\n",
            "Loss after epoch 60: 44374.0\n",
            "Loss after epoch 61: 44728.25\n",
            "Loss after epoch 62: 44346.5\n",
            "Loss after epoch 63: 43994.0\n",
            "Loss after epoch 64: 44801.0\n",
            "Loss after epoch 65: 44778.25\n",
            "Loss after epoch 66: 45209.0\n",
            "Loss after epoch 67: 45643.25\n",
            "Loss after epoch 68: 44000.0\n",
            "Loss after epoch 69: 44374.5\n",
            "Loss after epoch 70: 44091.5\n",
            "Loss after epoch 71: 44111.75\n",
            "Loss after epoch 72: 43772.0\n",
            "Loss after epoch 73: 44802.75\n",
            "Loss after epoch 74: 44744.5\n",
            "Loss after epoch 75: 44286.75\n",
            "Loss after epoch 76: 43005.25\n",
            "Loss after epoch 77: 41788.0\n",
            "Loss after epoch 78: 42077.0\n",
            "Loss after epoch 79: 41491.0\n",
            "Loss after epoch 80: 41033.0\n",
            "Loss after epoch 81: 42057.0\n",
            "Loss after epoch 82: 42272.5\n",
            "Loss after epoch 83: 42352.0\n",
            "Loss after epoch 84: 41692.0\n",
            "Loss after epoch 85: 42527.5\n",
            "Loss after epoch 86: 41601.0\n",
            "Loss after epoch 87: 41487.0\n",
            "Loss after epoch 88: 41666.5\n",
            "Loss after epoch 89: 41127.0\n",
            "Loss after epoch 90: 42294.5\n",
            "Loss after epoch 91: 41475.5\n",
            "Loss after epoch 92: 41853.5\n",
            "Loss after epoch 93: 41299.5\n",
            "Loss after epoch 94: 41700.0\n",
            "Loss after epoch 95: 41813.5\n",
            "Loss after epoch 96: 40635.5\n",
            "Loss after epoch 97: 41339.0\n",
            "Loss after epoch 98: 41143.0\n",
            "Loss after epoch 99: 41454.0\n",
            "Loss after epoch 100: 42030.5\n",
            "Loss after epoch 101: 42036.5\n",
            "Loss after epoch 102: 41557.5\n",
            "Loss after epoch 103: 41370.0\n",
            "Loss after epoch 104: 41275.0\n",
            "Loss after epoch 105: 41394.5\n",
            "Loss after epoch 106: 42109.5\n",
            "Loss after epoch 107: 41592.5\n",
            "Loss after epoch 108: 42975.5\n",
            "Loss after epoch 109: 41428.5\n",
            "Loss after epoch 110: 40859.0\n",
            "Loss after epoch 111: 41694.0\n",
            "Loss after epoch 112: 41294.0\n",
            "Loss after epoch 113: 41511.0\n",
            "Loss after epoch 114: 41000.5\n",
            "Loss after epoch 115: 41333.5\n",
            "Loss after epoch 116: 41357.5\n",
            "Loss after epoch 117: 40887.5\n",
            "Loss after epoch 118: 41243.5\n",
            "Loss after epoch 119: 41214.5\n",
            "Loss after epoch 120: 41280.0\n",
            "Loss after epoch 121: 41258.5\n",
            "Loss after epoch 122: 41213.5\n",
            "Loss after epoch 123: 41041.5\n",
            "Loss after epoch 124: 41368.5\n",
            "Loss after epoch 125: 41544.5\n",
            "Loss after epoch 126: 41137.5\n",
            "Loss after epoch 127: 40573.5\n",
            "Loss after epoch 128: 41483.0\n",
            "Loss after epoch 129: 41033.5\n",
            "Loss after epoch 130: 40332.5\n",
            "Loss after epoch 131: 41162.5\n",
            "Loss after epoch 132: 41470.5\n",
            "Loss after epoch 133: 40627.5\n",
            "Loss after epoch 134: 41017.0\n",
            "Loss after epoch 135: 41373.5\n",
            "Loss after epoch 136: 40704.5\n",
            "Loss after epoch 137: 40638.5\n",
            "Loss after epoch 138: 41639.0\n",
            "Loss after epoch 139: 40531.0\n",
            "Loss after epoch 140: 41333.5\n",
            "Loss after epoch 141: 41383.5\n",
            "Loss after epoch 142: 40673.0\n",
            "Loss after epoch 143: 40941.0\n",
            "Loss after epoch 144: 40898.0\n",
            "Loss after epoch 145: 41096.5\n",
            "Loss after epoch 146: 40857.0\n",
            "Loss after epoch 147: 41520.0\n",
            "Loss after epoch 148: 40986.5\n",
            "Loss after epoch 149: 41279.5\n",
            "Loss after epoch 150: 40931.5\n",
            "Loss after epoch 151: 41344.0\n",
            "Loss after epoch 152: 40763.5\n",
            "Loss after epoch 153: 41691.0\n",
            "Loss after epoch 154: 41363.5\n",
            "Loss after epoch 155: 40826.0\n",
            "Loss after epoch 156: 40996.5\n",
            "Loss after epoch 157: 41035.0\n",
            "Loss after epoch 158: 41127.0\n",
            "Loss after epoch 159: 41855.5\n",
            "Loss after epoch 160: 40646.5\n",
            "Loss after epoch 161: 41746.5\n",
            "Loss after epoch 162: 40389.5\n",
            "Loss after epoch 163: 40946.0\n",
            "Loss after epoch 164: 41644.0\n",
            "Loss after epoch 165: 41019.0\n",
            "Loss after epoch 166: 41050.0\n",
            "Loss after epoch 167: 40175.5\n",
            "Loss after epoch 168: 41173.5\n",
            "Loss after epoch 169: 40711.5\n",
            "Loss after epoch 170: 40604.0\n",
            "Loss after epoch 171: 40770.0\n",
            "Loss after epoch 172: 40755.0\n",
            "Loss after epoch 173: 40783.0\n",
            "Loss after epoch 174: 40844.0\n",
            "Loss after epoch 175: 40770.0\n",
            "Loss after epoch 176: 41323.0\n",
            "Loss after epoch 177: 41055.5\n",
            "Loss after epoch 178: 38185.5\n",
            "Loss after epoch 179: 37911.0\n",
            "Loss after epoch 180: 37404.0\n",
            "Loss after epoch 181: 37905.0\n",
            "Loss after epoch 182: 38625.0\n",
            "Loss after epoch 183: 38489.0\n",
            "Loss after epoch 184: 37502.0\n",
            "Loss after epoch 185: 38067.0\n",
            "Loss after epoch 186: 38247.0\n",
            "Loss after epoch 187: 37746.0\n",
            "Loss after epoch 188: 38434.0\n",
            "Loss after epoch 189: 38219.0\n",
            "Loss after epoch 190: 38023.0\n",
            "Loss after epoch 191: 38148.0\n",
            "Loss after epoch 192: 38053.0\n",
            "Loss after epoch 193: 38190.0\n",
            "Loss after epoch 194: 38022.0\n",
            "Loss after epoch 195: 37384.0\n",
            "Loss after epoch 196: 38312.0\n",
            "Loss after epoch 197: 37576.0\n",
            "Loss after epoch 198: 37758.0\n",
            "Loss after epoch 199: 37791.0\n",
            "Loss after epoch 200: 38312.0\n",
            "Loss after epoch 201: 37753.0\n",
            "Loss after epoch 202: 37955.0\n",
            "Loss after epoch 203: 37612.0\n",
            "Loss after epoch 204: 37890.0\n",
            "Loss after epoch 205: 37766.0\n",
            "Loss after epoch 206: 37650.0\n",
            "Loss after epoch 207: 37662.0\n",
            "Loss after epoch 208: 38093.0\n",
            "Loss after epoch 209: 36655.0\n",
            "Loss after epoch 210: 37700.0\n",
            "Loss after epoch 211: 37634.0\n",
            "Loss after epoch 212: 37228.0\n",
            "Loss after epoch 213: 37663.0\n",
            "Loss after epoch 214: 37188.0\n",
            "Loss after epoch 215: 37773.0\n",
            "Loss after epoch 216: 37345.0\n",
            "Loss after epoch 217: 37658.0\n",
            "Loss after epoch 218: 37357.0\n",
            "Loss after epoch 219: 37056.0\n",
            "Loss after epoch 220: 37685.0\n",
            "Loss after epoch 221: 37596.0\n",
            "Loss after epoch 222: 37262.0\n",
            "Loss after epoch 223: 37640.0\n",
            "Loss after epoch 224: 37247.0\n",
            "Loss after epoch 225: 37150.0\n",
            "Loss after epoch 226: 37803.0\n",
            "Loss after epoch 227: 37580.0\n",
            "Loss after epoch 228: 36725.0\n",
            "Loss after epoch 229: 37757.0\n",
            "Loss after epoch 230: 37182.0\n",
            "Loss after epoch 231: 37506.0\n",
            "Loss after epoch 232: 37714.0\n",
            "Loss after epoch 233: 37793.0\n",
            "Loss after epoch 234: 37197.0\n",
            "Loss after epoch 235: 37808.0\n",
            "Loss after epoch 236: 37441.0\n",
            "Loss after epoch 237: 37186.0\n",
            "Loss after epoch 238: 37766.0\n",
            "Loss after epoch 239: 38020.0\n",
            "Loss after epoch 240: 36789.0\n",
            "Loss after epoch 241: 37689.0\n",
            "Loss after epoch 242: 37684.0\n",
            "Loss after epoch 243: 37179.0\n",
            "Loss after epoch 244: 37073.0\n",
            "Loss after epoch 245: 37430.0\n",
            "Loss after epoch 246: 36865.0\n",
            "Loss after epoch 247: 37443.0\n",
            "Loss after epoch 248: 37670.0\n",
            "Loss after epoch 249: 37314.0\n",
            "Loss after epoch 250: 37046.0\n",
            "Loss after epoch 251: 37350.0\n",
            "Loss after epoch 252: 37302.0\n",
            "Loss after epoch 253: 37240.0\n",
            "Loss after epoch 254: 37525.0\n",
            "Loss after epoch 255: 37355.0\n",
            "Loss after epoch 256: 37632.0\n",
            "Loss after epoch 257: 38052.0\n",
            "Loss after epoch 258: 36768.0\n",
            "Loss after epoch 259: 37241.0\n",
            "Loss after epoch 260: 37323.0\n",
            "Loss after epoch 261: 37328.0\n",
            "Loss after epoch 262: 36887.0\n",
            "Loss after epoch 263: 36223.0\n",
            "Loss after epoch 264: 37807.0\n",
            "Loss after epoch 265: 36914.0\n",
            "Loss after epoch 266: 37524.0\n",
            "Loss after epoch 267: 37307.0\n",
            "Loss after epoch 268: 36988.0\n",
            "Loss after epoch 269: 37586.0\n",
            "Loss after epoch 270: 37074.0\n",
            "Loss after epoch 271: 37098.0\n",
            "Loss after epoch 272: 36892.0\n",
            "Loss after epoch 273: 37157.0\n",
            "Loss after epoch 274: 37326.0\n",
            "Loss after epoch 275: 37274.0\n",
            "Loss after epoch 276: 36998.0\n",
            "Loss after epoch 277: 36601.0\n",
            "Loss after epoch 278: 37688.0\n",
            "Loss after epoch 279: 36972.0\n",
            "Loss after epoch 280: 36819.0\n",
            "Loss after epoch 281: 36605.0\n",
            "Loss after epoch 282: 36647.0\n",
            "Loss after epoch 283: 37191.0\n",
            "Loss after epoch 284: 37334.0\n",
            "Loss after epoch 285: 36966.0\n",
            "Loss after epoch 286: 36824.0\n",
            "Loss after epoch 287: 36926.0\n",
            "Loss after epoch 288: 37193.0\n",
            "Loss after epoch 289: 37207.0\n",
            "Loss after epoch 290: 36091.0\n",
            "Loss after epoch 291: 36770.0\n",
            "Loss after epoch 292: 37234.0\n",
            "Loss after epoch 293: 36623.0\n",
            "Loss after epoch 294: 36162.0\n",
            "Loss after epoch 295: 36803.0\n",
            "Loss after epoch 296: 37021.0\n",
            "Loss after epoch 297: 37058.0\n",
            "Loss after epoch 298: 36860.0\n",
            "Loss after epoch 299: 36716.0\n",
            "Loss after epoch 300: 36226.0\n",
            "Loss after epoch 301: 36757.0\n",
            "Loss after epoch 302: 36302.0\n",
            "Loss after epoch 303: 37128.0\n",
            "Loss after epoch 304: 36021.0\n",
            "Loss after epoch 305: 37061.0\n",
            "Loss after epoch 306: 36658.0\n",
            "Loss after epoch 307: 36221.0\n",
            "Loss after epoch 308: 36314.0\n",
            "Loss after epoch 309: 36992.0\n",
            "Loss after epoch 310: 36260.0\n",
            "Loss after epoch 311: 37139.0\n",
            "Loss after epoch 312: 37086.0\n",
            "Loss after epoch 313: 36805.0\n",
            "Loss after epoch 314: 36170.0\n",
            "Loss after epoch 315: 36912.0\n",
            "Loss after epoch 316: 36430.0\n",
            "Loss after epoch 317: 37013.0\n",
            "Loss after epoch 318: 37072.0\n",
            "Loss after epoch 319: 36448.0\n",
            "Loss after epoch 320: 36067.0\n",
            "Loss after epoch 321: 36857.0\n",
            "Loss after epoch 322: 37246.0\n",
            "Loss after epoch 323: 37440.0\n",
            "Loss after epoch 324: 36185.0\n",
            "Loss after epoch 325: 37008.0\n",
            "Loss after epoch 326: 36220.0\n",
            "Loss after epoch 327: 36795.0\n",
            "Loss after epoch 328: 36776.0\n",
            "Loss after epoch 329: 37185.0\n",
            "Loss after epoch 330: 36488.0\n",
            "Loss after epoch 331: 36346.0\n",
            "Loss after epoch 332: 36759.0\n",
            "Loss after epoch 333: 36917.0\n",
            "Loss after epoch 334: 36771.0\n",
            "Loss after epoch 335: 37270.0\n",
            "Loss after epoch 336: 36459.0\n",
            "Loss after epoch 337: 36114.0\n",
            "Loss after epoch 338: 36624.0\n",
            "Loss after epoch 339: 36581.0\n",
            "Loss after epoch 340: 36385.0\n",
            "Loss after epoch 341: 35930.0\n",
            "Loss after epoch 342: 36028.0\n",
            "Loss after epoch 343: 36993.0\n",
            "Loss after epoch 344: 37062.0\n",
            "Loss after epoch 345: 36675.0\n",
            "Loss after epoch 346: 36819.0\n",
            "Loss after epoch 347: 36795.0\n",
            "Loss after epoch 348: 36876.0\n",
            "Loss after epoch 349: 36079.0\n",
            "Loss after epoch 350: 36483.0\n",
            "Loss after epoch 351: 36327.0\n",
            "Loss after epoch 352: 36775.0\n",
            "Loss after epoch 353: 36454.0\n",
            "Loss after epoch 354: 36616.0\n",
            "Loss after epoch 355: 36460.0\n",
            "Loss after epoch 356: 35786.0\n",
            "Loss after epoch 357: 35756.0\n",
            "Loss after epoch 358: 36853.0\n",
            "Loss after epoch 359: 36281.0\n",
            "Loss after epoch 360: 36622.0\n",
            "Loss after epoch 361: 36360.0\n",
            "Loss after epoch 362: 36286.0\n",
            "Loss after epoch 363: 36077.0\n",
            "Loss after epoch 364: 36347.0\n",
            "Loss after epoch 365: 36101.0\n",
            "Loss after epoch 366: 36166.0\n",
            "Loss after epoch 367: 36499.0\n",
            "Loss after epoch 368: 35786.0\n",
            "Loss after epoch 369: 36271.0\n",
            "Loss after epoch 370: 35554.0\n",
            "Loss after epoch 371: 36117.0\n",
            "Loss after epoch 372: 36528.0\n",
            "Loss after epoch 373: 35764.0\n",
            "Loss after epoch 374: 36715.0\n",
            "Loss after epoch 375: 36602.0\n",
            "Loss after epoch 376: 36448.0\n",
            "Loss after epoch 377: 35401.0\n",
            "Loss after epoch 378: 36344.0\n",
            "Loss after epoch 379: 36528.0\n",
            "Loss after epoch 380: 36257.0\n",
            "Loss after epoch 381: 35497.0\n",
            "Loss after epoch 382: 35952.0\n",
            "Loss after epoch 383: 36540.0\n",
            "Loss after epoch 384: 36479.0\n",
            "Loss after epoch 385: 35377.0\n",
            "Loss after epoch 386: 36358.0\n",
            "Loss after epoch 387: 35798.0\n",
            "Loss after epoch 388: 36229.0\n",
            "Loss after epoch 389: 35879.0\n",
            "Loss after epoch 390: 36166.0\n",
            "Loss after epoch 391: 36229.0\n",
            "Loss after epoch 392: 35799.0\n",
            "Loss after epoch 393: 35889.0\n",
            "Loss after epoch 394: 35681.0\n",
            "Loss after epoch 395: 36492.0\n",
            "Loss after epoch 396: 35992.0\n",
            "Loss after epoch 397: 35922.0\n",
            "Loss after epoch 398: 35854.0\n",
            "Loss after epoch 399: 36742.0\n",
            "Loss after epoch 400: 36271.0\n",
            "Loss after epoch 401: 35348.0\n",
            "Loss after epoch 402: 35463.0\n",
            "Loss after epoch 403: 35274.0\n",
            "Loss after epoch 404: 35842.0\n",
            "Loss after epoch 405: 32010.0\n",
            "Loss after epoch 406: 31918.0\n",
            "Loss after epoch 407: 31600.0\n",
            "Loss after epoch 408: 31956.0\n",
            "Loss after epoch 409: 31578.0\n",
            "Loss after epoch 410: 31662.0\n",
            "Loss after epoch 411: 32142.0\n",
            "Loss after epoch 412: 31678.0\n",
            "Loss after epoch 413: 31554.0\n",
            "Loss after epoch 414: 31126.0\n",
            "Loss after epoch 415: 31486.0\n",
            "Loss after epoch 416: 31748.0\n",
            "Loss after epoch 417: 31346.0\n",
            "Loss after epoch 418: 32110.0\n",
            "Loss after epoch 419: 31436.0\n",
            "Loss after epoch 420: 31796.0\n",
            "Loss after epoch 421: 31038.0\n",
            "Loss after epoch 422: 31282.0\n",
            "Loss after epoch 423: 31566.0\n",
            "Loss after epoch 424: 31664.0\n",
            "Loss after epoch 425: 31568.0\n",
            "Loss after epoch 426: 31922.0\n",
            "Loss after epoch 427: 31154.0\n",
            "Loss after epoch 428: 31738.0\n",
            "Loss after epoch 429: 31336.0\n",
            "Loss after epoch 430: 31496.0\n",
            "Loss after epoch 431: 31898.0\n",
            "Loss after epoch 432: 31560.0\n",
            "Loss after epoch 433: 31698.0\n",
            "Loss after epoch 434: 30896.0\n",
            "Loss after epoch 435: 31568.0\n",
            "Loss after epoch 436: 31718.0\n",
            "Loss after epoch 437: 31458.0\n",
            "Loss after epoch 438: 31196.0\n",
            "Loss after epoch 439: 31604.0\n",
            "Loss after epoch 440: 31244.0\n",
            "Loss after epoch 441: 31810.0\n",
            "Loss after epoch 442: 31882.0\n",
            "Loss after epoch 443: 31822.0\n",
            "Loss after epoch 444: 31212.0\n",
            "Loss after epoch 445: 31506.0\n",
            "Loss after epoch 446: 31266.0\n",
            "Loss after epoch 447: 30956.0\n",
            "Loss after epoch 448: 30836.0\n",
            "Loss after epoch 449: 31318.0\n",
            "Loss after epoch 450: 31678.0\n",
            "Loss after epoch 451: 31612.0\n",
            "Loss after epoch 452: 31214.0\n",
            "Loss after epoch 453: 31286.0\n",
            "Loss after epoch 454: 30612.0\n",
            "Loss after epoch 455: 31798.0\n",
            "Loss after epoch 456: 30654.0\n",
            "Loss after epoch 457: 30696.0\n",
            "Loss after epoch 458: 31044.0\n",
            "Loss after epoch 459: 32152.0\n",
            "Loss after epoch 460: 30492.0\n",
            "Loss after epoch 461: 30798.0\n",
            "Loss after epoch 462: 30734.0\n",
            "Loss after epoch 463: 30760.0\n",
            "Loss after epoch 464: 31480.0\n",
            "Loss after epoch 465: 31270.0\n",
            "Loss after epoch 466: 31648.0\n",
            "Loss after epoch 467: 31462.0\n",
            "Loss after epoch 468: 31934.0\n",
            "Loss after epoch 469: 30954.0\n",
            "Loss after epoch 470: 30318.0\n",
            "Loss after epoch 471: 30612.0\n",
            "Loss after epoch 472: 31084.0\n",
            "Loss after epoch 473: 30914.0\n",
            "Loss after epoch 474: 31050.0\n",
            "Loss after epoch 475: 31452.0\n",
            "Loss after epoch 476: 31174.0\n",
            "Loss after epoch 477: 31056.0\n",
            "Loss after epoch 478: 30780.0\n",
            "Loss after epoch 479: 30798.0\n",
            "Loss after epoch 480: 31088.0\n",
            "Loss after epoch 481: 30682.0\n",
            "Loss after epoch 482: 31284.0\n",
            "Loss after epoch 483: 30688.0\n",
            "Loss after epoch 484: 30910.0\n",
            "Loss after epoch 485: 30880.0\n",
            "Loss after epoch 486: 30896.0\n",
            "Loss after epoch 487: 31410.0\n",
            "Loss after epoch 488: 30640.0\n",
            "Loss after epoch 489: 30882.0\n",
            "Loss after epoch 490: 30802.0\n",
            "Loss after epoch 491: 30826.0\n",
            "Loss after epoch 492: 30970.0\n",
            "Loss after epoch 493: 31048.0\n",
            "Loss after epoch 494: 30388.0\n",
            "Loss after epoch 495: 30672.0\n",
            "Loss after epoch 496: 30298.0\n",
            "Loss after epoch 497: 30892.0\n",
            "Loss after epoch 498: 29366.0\n",
            "Loss after epoch 499: 30550.0\n"
          ]
        },
        {
          "output_type": "execute_result",
          "data": {
            "text/plain": [
              "(3429947, 7340000)"
            ]
          },
          "metadata": {},
          "execution_count": 10
        }
      ]
    },
    {
      "cell_type": "code",
      "source": [
        "#  10 palabras que MÁS se relacionan con crisis:\n",
        "w2v_model.wv.most_similar(positive=[\"crisis\"], topn=10)"
      ],
      "metadata": {
        "colab": {
          "base_uri": "https://localhost:8080/"
        },
        "id": "TXlKEnX9zlyA",
        "outputId": "066de7bb-a14b-42af-cd97-869b74fd4de8"
      },
      "execution_count": 11,
      "outputs": [
        {
          "output_type": "execute_result",
          "data": {
            "text/plain": [
              "[('registrado', 0.36815500259399414),\n",
              " ('existencia', 0.3645549416542053),\n",
              " ('guerra', 0.3602745831012726),\n",
              " ('seguro', 0.35744813084602356),\n",
              " ('allende', 0.3555392920970917),\n",
              " ('salvador', 0.34999924898147583),\n",
              " ('puntos', 0.3479922115802765),\n",
              " ('señor', 0.34477823972702026),\n",
              " ('económica', 0.3424667418003082),\n",
              " ('tuvieron', 0.3420993685722351)]"
            ]
          },
          "metadata": {},
          "execution_count": 11
        }
      ]
    },
    {
      "cell_type": "markdown",
      "source": [
        "El nivel de similitud de todas las palabras gira en torno al 0.35%. Palabras que yo veo interesantes y que se relacionan con crisis son por ejemplo: \"económica\" (por la crisis economica que ocurre en el país), \"guerra\" (ya que el presidente hace referencia muchas veces a como afecta la guerra en la actual crisis)."
      ],
      "metadata": {
        "id": "6rbzNQYTiocp"
      }
    },
    {
      "cell_type": "code",
      "source": [
        "# 20 palabras que MÁS se relacionan con crisis:\n",
        "w2v_model.wv.most_similar(positive=[\"crisis\"], topn=20)"
      ],
      "metadata": {
        "colab": {
          "base_uri": "https://localhost:8080/"
        },
        "id": "Hx9nOkMzjoCo",
        "outputId": "30ba93d4-e20d-4ec3-9556-ba915389ce4c"
      },
      "execution_count": 13,
      "outputs": [
        {
          "output_type": "execute_result",
          "data": {
            "text/plain": [
              "[('registrado', 0.36815500259399414),\n",
              " ('existencia', 0.3645549416542053),\n",
              " ('guerra', 0.3602745831012726),\n",
              " ('seguro', 0.35744813084602356),\n",
              " ('allende', 0.3555392920970917),\n",
              " ('salvador', 0.34999924898147583),\n",
              " ('puntos', 0.3479922115802765),\n",
              " ('señor', 0.34477823972702026),\n",
              " ('económica', 0.3424667418003082),\n",
              " ('tuvieron', 0.3420993685722351),\n",
              " ('meses', 0.3391183912754059),\n",
              " ('ingreso', 0.33108747005462646),\n",
              " ('necesita', 0.33091825246810913),\n",
              " ('personas', 0.32273709774017334),\n",
              " ('única', 0.3218275308609009),\n",
              " ('chile', 0.3217339813709259),\n",
              " ('europa', 0.32145294547080994),\n",
              " ('climático', 0.32096269726753235),\n",
              " ('¿saben', 0.3205059766769409),\n",
              " ('seguridad', 0.31843745708465576)]"
            ]
          },
          "metadata": {},
          "execution_count": 13
        }
      ]
    },
    {
      "cell_type": "markdown",
      "source": [
        "Cuando extiendo a las 20 palabras el análisis de similitud, encuentro interesantes y no muy lejos de las 10 anteriores: \"ingreso\", \"chile\", \"europa\" y \"climático\"."
      ],
      "metadata": {
        "id": "uzSHVl5KjlU2"
      }
    },
    {
      "cell_type": "code",
      "source": [
        "# 10 palabras que MÁS se relacionan con presindente:\n",
        "w2v_model.wv.most_similar(positive=[\"presidente\"], topn=10)"
      ],
      "metadata": {
        "colab": {
          "base_uri": "https://localhost:8080/"
        },
        "id": "DMj33GGOzezm",
        "outputId": "60fb8565-7a26-440d-f88f-302193e6725a"
      },
      "execution_count": 14,
      "outputs": [
        {
          "output_type": "execute_result",
          "data": {
            "text/plain": [
              "[('sr', 0.5867438316345215),\n",
              " ('medio', 0.41203129291534424),\n",
              " ('mí', 0.3969164788722992),\n",
              " ('camino', 0.37830936908721924),\n",
              " ('nada', 0.37771016359329224),\n",
              " ('da', 0.37216487526893616),\n",
              " ('10', 0.3706953525543213),\n",
              " ('atención', 0.36715447902679443),\n",
              " ('pobres', 0.3629620671272278),\n",
              " ('aires', 0.3599025309085846)]"
            ]
          },
          "metadata": {},
          "execution_count": 14
        }
      ]
    },
    {
      "cell_type": "markdown",
      "source": [
        "Acá \"sr\" es la palabra más importante debido a que en muchos discursos les habla o presenta a otros presidentes y en la transcripccion aparece: \"sr. presidente de ...\"."
      ],
      "metadata": {
        "id": "LBGWyCbgkPCp"
      }
    },
    {
      "cell_type": "code",
      "source": [
        "# 10 palabras que MÁS se relacionan con argentina:\n",
        "w2v_model.wv.most_similar(positive=[\"argentina\"], topn=10)"
      ],
      "metadata": {
        "colab": {
          "base_uri": "https://localhost:8080/"
        },
        "id": "w4aGTwbXzT7Q",
        "outputId": "83f6346a-34fc-442d-8d19-939a1fd57e18"
      },
      "execution_count": 17,
      "outputs": [
        {
          "output_type": "execute_result",
          "data": {
            "text/plain": [
              "[('grande', 0.31717249751091003),\n",
              " ('poderosos', 0.305957168340683),\n",
              " ('vivir', 0.28838127851486206),\n",
              " ('espero', 0.28388407826423645),\n",
              " ('justicia', 0.2838115692138672),\n",
              " ('europa', 0.2836097776889801),\n",
              " ('ingreso', 0.28335025906562805),\n",
              " ('norte', 0.2787700593471527),\n",
              " ('cerca', 0.2728211581707001),\n",
              " ('hubiera', 0.26647135615348816)]"
            ]
          },
          "metadata": {},
          "execution_count": 17
        }
      ]
    },
    {
      "cell_type": "markdown",
      "source": [
        "Entiendo que la palabra \"grande\" se relaciona fuertemente con la palabra \"argentina\" ya que el presiente utiliza muchas veces en su discurso frases como \"la argentina grande\" o \"por una argentina grande\""
      ],
      "metadata": {
        "id": "r9_TRRrwkkbG"
      }
    },
    {
      "cell_type": "code",
      "source": [
        "# 10 palabras que MÁS se relacionan con inflación:\n",
        "w2v_model.wv.most_similar(positive=[\"inflación\"], topn=10)"
      ],
      "metadata": {
        "colab": {
          "base_uri": "https://localhost:8080/"
        },
        "id": "N47-_ymAc4c7",
        "outputId": "85b920a3-154f-4cf3-a6e1-fbe7192d77ce"
      },
      "execution_count": 18,
      "outputs": [
        {
          "output_type": "execute_result",
          "data": {
            "text/plain": [
              "[('dejaron', 0.5794287323951721),\n",
              " ('54', 0.5729076862335205),\n",
              " ('deuda', 0.45120707154273987),\n",
              " ('puntos', 0.44852834939956665),\n",
              " ('europa', 0.4336605370044708),\n",
              " ('jóvenes', 0.39196324348449707),\n",
              " ('poderosos', 0.3888978660106659),\n",
              " ('guerra', 0.374417245388031),\n",
              " ('50', 0.3675536811351776),\n",
              " ('ingresos', 0.36685773730278015)]"
            ]
          },
          "metadata": {},
          "execution_count": 18
        }
      ]
    },
    {
      "cell_type": "markdown",
      "source": [
        "Es interesante acá algunas palabras relacionadas con inflación como ser: \"dejaron\" (ya que el presidente muchas veces hacer referencia a la inflación que le dejó el gobierno anterior). Tambien interesante ver \"deuda\" y las palabras relacionadas con crisis como \"guerra\" y \"europa\"."
      ],
      "metadata": {
        "id": "k6-1y2aylhQm"
      }
    },
    {
      "cell_type": "code",
      "source": [
        "# 10 palabras que MÁS se relacionan con deuda:\n",
        "w2v_model.wv.most_similar(positive=[\"deuda\"], topn=10)"
      ],
      "metadata": {
        "colab": {
          "base_uri": "https://localhost:8080/"
        },
        "id": "2DT6DpLWsrzJ",
        "outputId": "09d8e172-d70f-4a61-a981-4485daeebeea"
      },
      "execution_count": 19,
      "outputs": [
        {
          "output_type": "execute_result",
          "data": {
            "text/plain": [
              "[('54', 0.5363849997520447),\n",
              " ('dejaron', 0.5341254472732544),\n",
              " ('inflación', 0.45120713114738464),\n",
              " ('brics', 0.3962947726249695),\n",
              " ('guerra', 0.3710784912109375),\n",
              " ('orden', 0.3643539547920227),\n",
              " ('50', 0.3598240315914154),\n",
              " ('sequía', 0.35774698853492737),\n",
              " ('terminar', 0.3514992594718933),\n",
              " ('cuesta', 0.3449435234069824)]"
            ]
          },
          "metadata": {},
          "execution_count": 19
        }
      ]
    },
    {
      "cell_type": "markdown",
      "source": [
        "Acá palabras que me parecen intereante relacionadas con \"deuda\" son \"dejaron\", \"inflación\", nuevamente \"guerra\" y \"sequía\". \"54\" aparece dado que muchas veces hace referencia en sus discursos a \"54 puntos de inflación\"."
      ],
      "metadata": {
        "id": "FJReNlqhl6ac"
      }
    },
    {
      "cell_type": "code",
      "source": [
        "# palabras que MÁS se relacionan con pobres:\n",
        "w2v_model.wv.most_similar(positive=[\"pobres\"], topn=10)"
      ],
      "metadata": {
        "colab": {
          "base_uri": "https://localhost:8080/"
        },
        "id": "XpR-OhVMtDPV",
        "outputId": "3e9b5d3c-ae99-414e-e967-0be8fa557f73"
      },
      "execution_count": 21,
      "outputs": [
        {
          "output_type": "execute_result",
          "data": {
            "text/plain": [
              "[('morir', 0.5794013142585754),\n",
              " ('cuántos', 0.4934534430503845),\n",
              " ('jóvenes', 0.48916947841644287),\n",
              " ('podían', 0.44801467657089233),\n",
              " ('podía', 0.41555091738700867),\n",
              " ('madero', 0.4046913981437683),\n",
              " ('esfuerzo', 0.4032368063926697),\n",
              " ('cobrar', 0.39914682507514954),\n",
              " ('hubiera', 0.39887991547584534),\n",
              " ('camiones', 0.39360371232032776)]"
            ]
          },
          "metadata": {},
          "execution_count": 21
        }
      ]
    },
    {
      "cell_type": "markdown",
      "source": [
        "Acá \"morir\" tiene que ver con frases relacionadas con la pandimia ... algo así como \"puenden morir tanto pobres como ricos\". Interesante que aparezca \"madero\" en relación con pobres ya que es una referencia al departamento donde vivia en \"puerto madero\", lo mismo pasa con \"camiones\" y \"madero\" ya que hace referencia a las obras que evitan el paso de camiones por dicho barrio."
      ],
      "metadata": {
        "id": "D1CvsnVcmcOe"
      }
    },
    {
      "cell_type": "code",
      "source": [
        "# 10 palabras que MÁS se relacionan con gracias:\n",
        "w2v_model.wv.most_similar(positive=[\"gracias\"], topn=10)"
      ],
      "metadata": {
        "colab": {
          "base_uri": "https://localhost:8080/"
        },
        "id": "rpUThorcvt7o",
        "outputId": "ba6cd02d-4fb2-469f-8e52-32844a3e5b13"
      },
      "execution_count": 22,
      "outputs": [
        {
          "output_type": "execute_result",
          "data": {
            "text/plain": [
              "[('buenas', 0.6161782741546631),\n",
              " ('amigos', 0.49152833223342896),\n",
              " ('muchas', 0.4729737639427185),\n",
              " ('salvador', 0.4394723176956177),\n",
              " ('sr', 0.4391665756702423),\n",
              " ('provincias', 0.4319251477718353),\n",
              " ('logramos', 0.42273595929145813),\n",
              " ('prepaga', 0.4053828716278076),\n",
              " ('enorme', 0.40488582849502563),\n",
              " ('catamarca', 0.4036981165409088)]"
            ]
          },
          "metadata": {},
          "execution_count": 22
        }
      ]
    },
    {
      "cell_type": "markdown",
      "source": [
        "Acá \"buenas\", \"muchas\", \"sr\" y \"enorme\" son paralabras que se encuentran en los saludos finales del presidente y seguramente eso genera la relación con \"gracias\""
      ],
      "metadata": {
        "id": "tzgVM8jUnVZC"
      }
    },
    {
      "cell_type": "code",
      "source": [
        "# 10 palabras que MÁS se relacionan con madero:\n",
        "w2v_model.wv.most_similar(positive=[\"madero\"], topn=10)"
      ],
      "metadata": {
        "colab": {
          "base_uri": "https://localhost:8080/"
        },
        "id": "4zEjCir_c8HJ",
        "outputId": "8cfe6334-2536-4825-f3e0-b6e5d10a5724"
      },
      "execution_count": 23,
      "outputs": [
        {
          "output_type": "execute_result",
          "data": {
            "text/plain": [
              "[('puerto', 0.7250540852546692),\n",
              " ('camiones', 0.5064966082572937),\n",
              " ('señor', 0.48349839448928833),\n",
              " ('vecinos', 0.4253254532814026),\n",
              " ('pobres', 0.4046913981437683),\n",
              " ('vivir', 0.4035724103450775),\n",
              " ('mía', 0.39223095774650574),\n",
              " ('bajo', 0.38422292470932007),\n",
              " ('morir', 0.3832818865776062),\n",
              " ('cuántos', 0.3694327175617218)]"
            ]
          },
          "metadata": {},
          "execution_count": 23
        }
      ]
    },
    {
      "cell_type": "markdown",
      "source": [
        "Acá \"puerto\" es algo lógico al igual que \"camiones\" y \"vecinos\"."
      ],
      "metadata": {
        "id": "e-6YbrA9nsUk"
      }
    },
    {
      "cell_type": "code",
      "source": [
        "# 10 palabras que MENOS se relacionan con presidente:\n",
        "w2v_model.wv.most_similar(negative=[\"presidente\"], topn=10)"
      ],
      "metadata": {
        "colab": {
          "base_uri": "https://localhost:8080/"
        },
        "id": "Q2VMlpgCtwsA",
        "outputId": "86c33ebe-7a96-4a55-fdeb-a519884da237"
      },
      "execution_count": 25,
      "outputs": [
        {
          "output_type": "execute_result",
          "data": {
            "text/plain": [
              "[('política', 0.03661388158798218),\n",
              " ('nuestros', -0.009348240680992603),\n",
              " ('vamos', -0.010918217711150646),\n",
              " ('casas', -0.016569530591368675),\n",
              " ('está', -0.016969837248325348),\n",
              " ('viven', -0.020670242607593536),\n",
              " ('pasa', -0.023038819432258606),\n",
              " ('todo', -0.030221564695239067),\n",
              " ('necesitan', -0.030956977978348732),\n",
              " ('acueducto', -0.03388890624046326)]"
            ]
          },
          "metadata": {},
          "execution_count": 25
        }
      ]
    },
    {
      "cell_type": "markdown",
      "source": [
        "Bueno acá resulta gracioso que una de las palabras sea \"política\" ."
      ],
      "metadata": {
        "id": "q2uRSsBLoIHc"
      }
    },
    {
      "cell_type": "code",
      "source": [
        "# 10 palabras que MENOS se relacionan con democracia:\n",
        "w2v_model.wv.most_similar(negative=[\"democracia\"], topn=10)"
      ],
      "metadata": {
        "colab": {
          "base_uri": "https://localhost:8080/"
        },
        "id": "Tak8aJlcsmH1",
        "outputId": "7117dda7-f0d5-4f2b-c120-e9461a59101b"
      },
      "execution_count": 21,
      "outputs": [
        {
          "output_type": "execute_result",
          "data": {
            "text/plain": [
              "[('agua', 0.03346685320138931),\n",
              " ('sin', -0.002541245659813285),\n",
              " ('estado', -0.003481603693217039),\n",
              " ('rosa', -0.003740126034244895),\n",
              " ('este', -0.004348464775830507),\n",
              " ('ir', -0.004954023286700249),\n",
              " ('toda', -0.009563903324306011),\n",
              " ('ustedes', -0.017769258469343185),\n",
              " ('en', -0.02312721684575081),\n",
              " ('río', -0.02974279783666134)]"
            ]
          },
          "metadata": {},
          "execution_count": 21
        }
      ]
    },
    {
      "cell_type": "markdown",
      "source": [
        "Al igual que en el anterior, que aparezca \"estado\" en la lista es interesante."
      ],
      "metadata": {
        "id": "VeTnlZ_CoZPj"
      }
    },
    {
      "cell_type": "code",
      "source": [
        " # pruebo el método `get_vector`\n",
        "vector_pais = w2v_model.wv.get_vector(\"país\")\n",
        "print(vector_pais)"
      ],
      "metadata": {
        "colab": {
          "base_uri": "https://localhost:8080/"
        },
        "id": "gpz-8v3Yh7vO",
        "outputId": "6fff829d-8ef0-4036-e12a-8330f2fa1872"
      },
      "execution_count": 27,
      "outputs": [
        {
          "output_type": "stream",
          "name": "stdout",
          "text": [
            "[ 5.27771050e-03  1.13424055e-01 -2.13760007e-02  2.92052329e-01\n",
            "  2.34538510e-01 -2.66555101e-01 -1.60463035e-01  3.66843671e-01\n",
            " -5.21568894e-01  2.10860565e-01 -1.44894898e-01  4.16690588e-01\n",
            " -1.23444356e-01 -2.63701528e-01 -5.87549359e-02 -2.91965436e-02\n",
            "  2.44345114e-01 -6.58347830e-02 -5.12017757e-02  6.11103140e-02\n",
            "  2.06846774e-01 -3.82328898e-01 -2.76094049e-01 -3.44769657e-01\n",
            " -3.77408922e-01 -8.02442431e-02 -1.20792978e-01  7.80528933e-02\n",
            " -2.66833603e-01  4.56329621e-02  3.53437454e-01 -1.25087807e-02\n",
            "  2.18899846e-01 -1.66512027e-01 -2.08525255e-01  1.69948518e-01\n",
            "  6.48531735e-01 -1.90185502e-01 -1.87197149e-01  3.32342267e-01\n",
            " -3.42956036e-01 -1.15144804e-01  2.93077081e-01 -3.62102985e-01\n",
            " -2.61304945e-01  3.63150216e-03  1.78271085e-01 -3.13468456e-01\n",
            "  2.20999092e-01  2.92031705e-01  5.65231979e-01  1.56325579e-01\n",
            " -1.49731532e-01 -1.37633964e-01 -7.45922253e-02  5.20622611e-01\n",
            "  3.38189244e-01 -8.32374170e-02  4.61579889e-01  1.12510219e-01\n",
            "  5.37996650e-01 -1.72462851e-01  2.89726234e-03  4.15235043e-01\n",
            "  2.74996161e-01  2.50378639e-01  4.29130733e-01  2.87626567e-03\n",
            " -2.21270621e-01  8.94818008e-02  1.56928301e-01  2.02091597e-02\n",
            "  2.31642351e-01 -5.82919478e-01  1.63054422e-01 -3.10735822e-01\n",
            "  2.19379187e-01 -2.75701165e-01 -5.98595515e-02  3.70445132e-01\n",
            " -2.08234414e-02 -4.10063341e-02 -3.20348255e-02  3.93400759e-01\n",
            "  3.36999804e-01  3.67759883e-01 -6.70478582e-01 -3.82381946e-01\n",
            "  1.94693804e-01 -1.05031125e-01 -7.71041214e-02  1.76478568e-02\n",
            "  2.32876614e-01 -2.02630565e-01  3.04497689e-01  2.83949077e-01\n",
            " -3.64339739e-01 -9.02214274e-03 -4.13646698e-01 -1.93178952e-01\n",
            " -9.61451456e-02  2.32501760e-01  2.64568567e-01  1.17910160e-02\n",
            "  3.12443316e-01 -5.06587029e-01  1.00274645e-01  2.79261410e-01\n",
            " -6.18119910e-02  6.55173510e-02 -2.91189373e-01 -5.51241934e-01\n",
            "  2.60483921e-01  2.91325033e-01  3.94710809e-01 -5.29999256e-01\n",
            " -2.19634503e-01  5.04030347e-01  1.90830171e-01  1.67320415e-01\n",
            " -7.42487371e-01  3.12087506e-01 -1.08276375e-01 -3.14855784e-01\n",
            "  4.76523101e-01  1.27129138e-01  1.65237546e-01 -7.18022287e-01\n",
            " -3.75671126e-02 -1.28732547e-01 -8.88625532e-03  5.17984748e-01\n",
            "  1.90738253e-02 -4.57083397e-02 -3.42408210e-01  5.78381717e-01\n",
            "  3.39114457e-01 -1.43923208e-01  2.87425369e-01 -5.94547629e-01\n",
            "  8.54646936e-02 -8.45075101e-02 -3.02687347e-01 -2.39441648e-01\n",
            "  4.76620823e-01 -2.73350775e-01  6.11980677e-01  9.12637115e-02\n",
            " -3.24332565e-02  7.65820742e-02 -2.01994538e-01  3.73542821e-03\n",
            " -1.11071989e-01  7.61319771e-02  4.14878339e-01 -1.00103900e-01\n",
            "  1.29627243e-01 -5.42192280e-01 -4.49478537e-01 -4.36570458e-02\n",
            " -1.49245262e-01 -1.76721781e-01 -4.60421294e-01  1.59917474e-01\n",
            " -5.53608716e-01  3.36205840e-01  2.22489432e-01 -1.78130746e-01\n",
            "  3.70750278e-02  7.14497328e-01  2.26977214e-01 -1.42436624e-01\n",
            " -1.15332544e-01  3.28054667e-01  3.67419511e-01 -4.35450882e-01\n",
            "  9.64869708e-02 -2.77427375e-01  4.27657574e-01 -5.49592078e-01\n",
            " -3.18487257e-01  1.89246327e-01 -7.46886581e-02 -2.14405417e-01\n",
            " -1.80930853e-01 -3.29778463e-01  1.29915908e-01  1.83057293e-01\n",
            " -3.54683250e-01  7.31083155e-02  5.27027190e-01  6.10332638e-02\n",
            "  2.45102689e-01  6.46388978e-02 -3.18796515e-01 -6.70138597e-01\n",
            " -4.51972932e-01  1.90134078e-01  3.12389955e-02 -2.62219110e-05\n",
            " -1.11543536e-01  8.10382664e-02 -9.64469016e-02 -6.55534565e-01\n",
            " -1.39148384e-01 -1.20315194e-01  4.15119112e-01  1.25900999e-01\n",
            " -5.69018900e-01 -5.31536080e-02 -2.90729076e-01  2.11125731e-01\n",
            " -3.37348491e-01  6.15219818e-03 -4.60369699e-02 -2.50041664e-01\n",
            "  2.84127414e-01 -2.38409400e-01  3.05617273e-01 -3.89263511e-01\n",
            " -2.36862481e-01 -3.04917186e-01 -4.27934796e-01 -2.67223686e-01\n",
            " -9.02735814e-02 -1.01660028e-01 -1.19324014e-01 -5.26774645e-01\n",
            " -1.25696287e-01  2.23392934e-01  3.43275607e-01  7.27418661e-02\n",
            " -2.11694583e-01 -8.45739320e-02 -9.81731713e-02 -2.13804692e-01\n",
            "  1.31000832e-01 -2.68734992e-01  1.48629382e-01 -7.72996992e-02\n",
            "  5.65609559e-02  4.06048268e-01  1.59359708e-01 -2.53050685e-01\n",
            "  1.64297745e-01 -1.62080631e-01  2.61794068e-02  2.62350328e-02\n",
            "  2.81376243e-01 -9.13464427e-02  3.08512330e-01 -5.24986327e-01\n",
            "  6.41657412e-02 -8.47049654e-02 -7.19212055e-01 -4.32044379e-02\n",
            "  1.37146205e-01  1.68241724e-01 -6.20545208e-01 -2.84541547e-01\n",
            "  4.76605713e-01  2.66887397e-02  1.27999201e-01 -7.87552595e-01\n",
            "  1.35055766e-01 -1.51099384e-01  1.76859066e-01  1.77795127e-01\n",
            " -1.07105777e-01 -1.69912294e-01  7.23306760e-02 -8.00304562e-02\n",
            "  1.71972558e-01 -4.92860265e-02  4.61395867e-02  2.44638741e-01\n",
            "  2.26853624e-01  4.34055597e-01 -2.35742092e-01  9.14140791e-02\n",
            " -8.50954950e-02  2.29948536e-02 -3.20266515e-01  2.68882990e-01\n",
            "  2.64303237e-01  4.47899848e-01 -1.27075657e-01 -8.94587934e-02\n",
            "  5.54397851e-02 -1.70372292e-01 -1.99715402e-02 -5.89371808e-02\n",
            " -1.53349906e-01  3.24501991e-01  1.45826846e-01  4.44440126e-01\n",
            "  1.54945761e-01 -1.18286923e-01 -2.82896638e-01 -3.19986999e-01]\n"
          ]
        }
      ]
    },
    {
      "cell_type": "code",
      "source": [
        "# el método `most_similar` también permite comparar a partir de vectores\n",
        "w2v_model.wv.most_similar(vector_pais)"
      ],
      "metadata": {
        "colab": {
          "base_uri": "https://localhost:8080/"
        },
        "id": "1gfU3fWpiPJT",
        "outputId": "654b3bcd-b5b7-4592-b3f5-b77fa42e27a7"
      },
      "execution_count": 28,
      "outputs": [
        {
          "output_type": "execute_result",
          "data": {
            "text/plain": [
              "[('país', 1.0),\n",
              " ('grande', 0.35937637090682983),\n",
              " ('cuatro', 0.3562638461589813),\n",
              " ('argentinas', 0.3510570228099823),\n",
              " ('chicos', 0.3400222957134247),\n",
              " ('públicas', 0.33632951974868774),\n",
              " ('norte', 0.33550217747688293),\n",
              " ('energía', 0.32807162404060364),\n",
              " ('llevando', 0.3116864264011383),\n",
              " ('humano', 0.3051295876502991)]"
            ]
          },
          "metadata": {},
          "execution_count": 28
        }
      ]
    },
    {
      "cell_type": "code",
      "source": [
        "from sklearn.decomposition import IncrementalPCA\n",
        "from sklearn.manifold import TSNE\n",
        "import numpy as np\n",
        "\n",
        "def reduce_dimensions(model, num_dimensions = 2 ):\n",
        "\n",
        "    vectors = np.asarray(model.wv.vectors)\n",
        "    labels = np.asarray(model.wv.index_to_key)\n",
        "\n",
        "    tsne = TSNE(n_components=num_dimensions, random_state=0)\n",
        "    vectors = tsne.fit_transform(vectors)\n",
        "\n",
        "    return vectors, labels"
      ],
      "metadata": {
        "id": "5o7kXGOMiVCo"
      },
      "execution_count": 29,
      "outputs": []
    },
    {
      "cell_type": "code",
      "source": [
        "# Graficar los embedddings en 2D\n",
        "import plotly.graph_objects as go\n",
        "import plotly.express as px\n",
        "\n",
        "vecs, labels = reduce_dimensions(w2v_model)\n",
        "\n",
        "MAX_WORDS=200\n",
        "fig = px.scatter(x=vecs[:MAX_WORDS,0], y=vecs[:MAX_WORDS,1], text=labels[:MAX_WORDS])\n",
        "fig.show(renderer=\"colab\") # esto para plotly en colab"
      ],
      "metadata": {
        "colab": {
          "base_uri": "https://localhost:8080/",
          "height": 542
        },
        "id": "BD9qWg4YibRi",
        "outputId": "3289d8de-6ba2-4dce-c935-71bf42d301f8"
      },
      "execution_count": 30,
      "outputs": [
        {
          "output_type": "display_data",
          "data": {
            "text/html": [
              "<html>\n",
              "<head><meta charset=\"utf-8\" /></head>\n",
              "<body>\n",
              "    <div>            <script src=\"https://cdnjs.cloudflare.com/ajax/libs/mathjax/2.7.5/MathJax.js?config=TeX-AMS-MML_SVG\"></script><script type=\"text/javascript\">if (window.MathJax && window.MathJax.Hub && window.MathJax.Hub.Config) {window.MathJax.Hub.Config({SVG: {font: \"STIX-Web\"}});}</script>                <script type=\"text/javascript\">window.PlotlyConfig = {MathJaxConfig: 'local'};</script>\n",
              "        <script charset=\"utf-8\" src=\"https://cdn.plot.ly/plotly-2.24.1.min.js\"></script>                <div id=\"55219b0b-8afc-438e-bf9e-0c3ec8831445\" class=\"plotly-graph-div\" style=\"height:525px; width:100%;\"></div>            <script type=\"text/javascript\">                                    window.PLOTLYENV=window.PLOTLYENV || {};                                    if (document.getElementById(\"55219b0b-8afc-438e-bf9e-0c3ec8831445\")) {                    Plotly.newPlot(                        \"55219b0b-8afc-438e-bf9e-0c3ec8831445\",                        [{\"hovertemplate\":\"x=%{x}\\u003cbr\\u003ey=%{y}\\u003cbr\\u003etext=%{text}\\u003cextra\\u003e\\u003c\\u002fextra\\u003e\",\"legendgroup\":\"\",\"marker\":{\"color\":\"#636efa\",\"symbol\":\"circle\"},\"mode\":\"markers+text\",\"name\":\"\",\"orientation\":\"v\",\"showlegend\":false,\"text\":[\"que\",\"de\",\"la\",\"y\",\"a\",\"en\",\"el\",\"los\",\"no\",\"un\",\"es\",\"para\",\"lo\",\"por\",\"se\",\"una\",\"porque\",\"con\",\"las\",\"del\",\"m\\u00e1s\",\"argentina\",\"nos\",\"eso\",\"yo\",\"agua\",\"hay\",\"como\",\"todo\",\"todos\",\"nosotros\",\"pero\",\"les\",\"\\u2013\",\"me\",\"al\",\"ese\",\"su\",\"esa\",\"estamos\",\"este\",\"cuando\",\"mundo\",\"p\\u00fablica\",\"hacer\",\"son\",\"est\\u00e1\",\"tambi\\u00e9n\",\"universidad\",\"qu\\u00e9\",\"donde\",\"si\",\"era\",\"a\\u00f1os\",\"todas\",\"ustedes\",\"mil\",\"esto\",\"estado\",\"est\\u00e1n\",\"salud\",\"argentinos\",\"ser\",\"hoy\",\"fue\",\"sus\",\"pa\\u00eds\",\"aires\",\"tiene\",\"mucho\",\"buenos\",\"tenemos\",\"nacional\",\"muchas\",\"o\",\"obras\",\"ellos\",\"va\",\"tener\",\"problema\",\"obra\",\"sergio\",\"gracias\",\"verdad\",\"ac\\u00e1\",\"ahora\",\"vamos\",\"educaci\\u00f3n\",\"tiempo\",\"tienen\",\"muchos\",\"le\",\"mi\",\"aqu\\u00ed\",\"pido\",\"ha\",\"vez\",\"casas\",\"dos\",\"vida\",\"estar\",\"muy\",\"rioja\",\"pampa\",\"desarrollo\",\"somos\",\"hicimos\",\"c\\u00f3mo\",\"presidente\",\"quiero\",\"estudiar\",\"estoy\",\"sin\",\"all\\u00ed\",\"ya\",\"veces\",\"pandemia\",\"cosas\",\"debe\",\"esta\",\"pa\\u00edses\",\"pesos\",\"falta\",\"gobierno\",\"hemos\",\"uno\",\"d\\u00eda\",\"plata\",\"universidades\",\"mental\",\"crisis\",\"hablando\",\"p\\u00fablicas\",\"seguir\",\"haber\",\"millones\",\"mejor\",\"dicen\",\"casta\",\"van\",\"ver\",\"esos\",\"cada\",\"adem\\u00e1s\",\"han\",\"te\",\"hace\",\"algunos\",\"\\u00bfqu\\u00e9\",\"ciento\",\"sur\",\"sociedad\",\"bien\",\"nuestros\",\"importante\",\"poder\",\"parte\",\"cuenta\",\"gran\",\"ni\",\"\\u00bfy\",\"lugar\",\"ir\",\"vas\",\"edificio\",\"puede\",\"enorme\",\"pasa\",\"pueda\",\"hasta\",\"hicieron\",\"presente\",\"gente\",\"puedan\",\"esas\",\"otro\",\"a\\u00f1o\",\"deuda\",\"sea\",\"m\\u00ed\",\"vivimos\",\"dice\",\"siempre\",\"problemas\",\"nuestra\",\"mismo\",\"familias\",\"algo\",\"pueden\",\"tierra\",\"inflaci\\u00f3n\",\"acueducto\",\"favor\",\"digo\",\"clim\\u00e1tico\",\"as\\u00ed\",\"estas\",\"libertad\",\"alg\\u00fan\",\"despu\\u00e9s\"],\"x\":[1.2448019981384277,1.0803580284118652,1.130875587463379,1.0723953247070312,1.2168577909469604,1.1727778911590576,1.078037142753601,0.9419979453086853,1.3600492477416992,1.101515769958496,1.246364712715149,1.1256189346313477,1.5607364177703857,0.8730304837226868,0.9403058886528015,1.075303316116333,1.4478009939193726,1.1367172002792358,1.0022157430648804,0.9272083044052124,1.1714991331100464,1.156599760055542,1.7835253477096558,1.35438072681427,1.0388569831848145,0.3240068256855011,-1.1396050453186035,1.3322182893753052,1.2370538711547852,0.5297391414642334,1.2749247550964355,1.326501727104187,0.7744090557098389,1.5502899885177612,2.2243542671203613,0.9924786686897278,1.3325556516647339,0.7238490581512451,0.7891284227371216,1.795238971710205,0.911490797996521,1.5803602933883667,1.0030498504638672,0.2219502329826355,1.6177736520767212,-0.6144570112228394,0.9906764030456543,0.55315101146698,1.8403514623641968,4.093295574188232,1.3361155986785889,1.490447759628296,1.678877592086792,2.015190362930298,0.5179802179336548,2.5163724422454834,-1.1990926265716553,1.6344122886657715,0.5077221989631653,0.6436244249343872,1.1465946435928345,-0.7560175657272339,-0.043499916791915894,0.7359240055084229,1.6623890399932861,0.7774185538291931,1.2167860269546509,3.0289180278778076,0.4809553325176239,0.8779532313346863,3.0272107124328613,1.9882298707962036,2.414896011352539,0.46550682187080383,-0.017606189474463463,-0.9893355965614319,-0.9922928810119629,1.2054020166397095,0.43995702266693115,0.6779468655586243,0.06328912079334259,1.3804619312286377,0.5237303972244263,1.338159203529358,2.0600130558013916,2.407125234603882,1.828623652458191,-0.6445683836936951,1.3792170286178589,-1.801763892173767,0.9701623916625977,1.6868969202041626,6.313846588134766,0.8016862869262695,0.2531910538673401,-0.8023814558982849,0.6765838265419006,1.6146193742752075,-0.09644565731287003,4.84757137298584,0.4521893560886383,1.701041340827942,5.716108322143555,-0.22016142308712006,0.5665720701217651,2.7819414138793945,2.003091335296631,2.128736972808838,-0.09587924182415009,-0.12391522526741028,1.8257219791412354,5.061636447906494,0.5492129325866699,0.6124557256698608,-2.9990830421447754,1.203439712524414,-2.2773287296295166,2.000241994857788,0.0923960730433464,5.186450004577637,-1.1148689985275269,-0.9020649790763855,0.010311021469533443,1.0823185443878174,0.9197145104408264,-0.13214896619319916,-4.316574573516846,3.3310775756835938,2.8376190662384033,1.1545393466949463,-1.4301971197128296,3.682537794113159,-0.8836309909820557,3.1867260932922363,-1.3440861701965332,-1.1228665113449097,2.610650062561035,4.834343433380127,-2.6004576683044434,1.208311676979065,1.5053855180740356,5.854554176330566,0.3689408600330353,1.7760040760040283,-1.8855425119400024,2.8863227367401123,-0.2888656556606293,-0.8866133689880371,3.31050705909729,0.29604384303092957,-1.3819174766540527,3.7390801906585693,-0.1323968768119812,1.1250898838043213,1.5831613540649414,1.1039267778396606,-1.2849090099334717,2.146993637084961,2.005316972732544,1.4252307415008545,4.313512325286865,-0.41963934898376465,6.695657730102539,-0.5361741185188293,2.9457597732543945,-0.44721075892448425,-1.7989683151245117,3.833296060562134,0.11452038586139679,-0.34852486848831177,2.3175227642059326,0.2582647204399109,2.698295831680298,0.15698422491550446,2.084864616394043,5.545251846313477,0.6175575852394104,-3.314356565475464,2.602771282196045,3.4007434844970703,1.228782057762146,2.7957403659820557,5.515571117401123,3.3060696125030518,-4.174449920654297,-0.047606803476810455,0.8703672885894775,3.3691294193267822,4.6251397132873535,3.108609914779663,-3.282059669494629,-2.6495587825775146,0.058760397136211395,0.8591482043266296,3.9112045764923096,-4.145422458648682,3.8626205921173096,-5.332027435302734,2.7306244373321533,-3.367489814758301],\"xaxis\":\"x\",\"y\":[-0.5829025506973267,-0.8463097810745239,-0.8970165848731995,-0.6389912366867065,-0.2371465563774109,-0.950470507144928,-1.0420409440994263,-0.34193477034568787,-0.630649983882904,-0.8814857602119446,-0.687013566493988,-0.5375295281410217,-0.7518148422241211,-0.36728957295417786,-0.761157751083374,-0.9924204349517822,-0.5382770299911499,-0.6220956444740295,-0.12540023028850555,-1.132257103919983,-0.9871701598167419,-0.9942736029624939,-0.811711847782135,-0.7977422475814819,-0.17061872780323029,-0.3765738904476166,1.6766514778137207,-0.7113831043243408,-0.960873007774353,0.3306846022605896,-0.4049474895000458,-0.18403056263923645,0.20663394033908844,-0.6453650593757629,-0.7015170454978943,-1.3453370332717896,-1.185608983039856,-0.629671573638916,-0.6285402178764343,0.03730965033173561,-1.724414587020874,-0.07998254895210266,-1.530448317527771,-0.6696773767471313,-0.6621458530426025,-0.011996353045105934,-1.2347463369369507,-0.3358689844608307,-1.4030181169509888,0.5185267329216003,-1.100881576538086,0.15560607612133026,-1.3656010627746582,-2.9993839263916016,1.6664713621139526,-0.4644002914428711,4.499942302703857,-0.5244618654251099,-0.9769434928894043,-0.194185271859169,-2.310518264770508,1.3086918592453003,-0.8525013327598572,-1.3071473836898804,-1.2914341688156128,-0.0029890346340835094,-1.5246827602386475,-3.1907780170440674,-0.9779291749000549,0.4126417636871338,-3.178051471710205,-0.7056325674057007,-3.992934226989746,1.8231161832809448,4.526222229003906,3.439237117767334,-0.3742661476135254,0.34938135743141174,-1.0887631177902222,-1.952223777770996,-0.590202808380127,-0.5059754252433777,2.000185966491699,0.4091317057609558,-0.28890687227249146,-0.8713003993034363,0.22446830570697784,-0.2712259590625763,-1.5332552194595337,-1.4722310304641724,0.11142336577177048,-1.6326541900634766,0.8322476744651794,1.1457170248031616,0.42106878757476807,-1.6596428155899048,-0.25355064868927,2.361898183822632,3.777878522872925,-4.90269136428833,2.094864845275879,-0.10030137002468109,0.5249611735343933,-0.6685081124305725,-2.504739761352539,-0.17644697427749634,-0.612717866897583,-1.2556813955307007,-4.453540802001953,0.8879141211509705,1.6249688863754272,-0.9365907311439514,-0.9644718170166016,1.7643300294876099,-0.15832972526550293,1.1697587966918945,-3.904782295227051,2.3734042644500732,-1.1653481721878052,-2.3971519470214844,-3.9509429931640625,4.729787826538086,-1.9829131364822388,-4.234207630157471,-1.8740829229354858,-0.6395413279533386,0.9654244184494019,-3.7415974140167236,3.394132137298584,-2.511610507965088,-1.8740973472595215,0.0840783640742302,3.5272700786590576,3.3542063236236572,-4.845055103302002,4.400745391845703,-1.1173282861709595,1.7362756729125977,-2.1844446659088135,0.6531769633293152,-2.0523743629455566,-4.210322856903076,0.2714754343032837,-1.8700494766235352,-2.0309557914733887,1.8475595712661743,-1.4156149625778198,-1.108958125114441,-3.2805964946746826,-0.24668480455875397,-3.9439425468444824,1.7351661920547485,0.009396487846970558,-5.372472286224365,-2.920034646987915,0.8270382285118103,-3.9526307582855225,-1.1811479330062866,-1.6522326469421387,4.265960693359375,-0.06772291660308838,-3.6500988006591797,-2.4253368377685547,5.069676876068115,-4.596110820770264,-1.3573639392852783,-2.6521847248077393,-1.2017431259155273,-1.923027515411377,6.003673076629639,-2.533106565475464,-0.42056041955947876,2.2660794258117676,2.247929811477661,2.9748148918151855,1.5743061304092407,-2.9180219173431396,-4.9067487716674805,-2.1291749477386475,-1.0775357484817505,-2.106520652770996,-0.47262072563171387,3.377953052520752,-1.4545776844024658,-1.3042027950286865,-2.6251726150512695,3.634719133377075,-2.5231099128723145,-3.62558650970459,-4.318074703216553,-4.831430912017822,4.460526943206787,0.2809135913848877,0.5916481018066406,1.4134631156921387,2.680237293243408,4.457601547241211,-1.0664567947387695,-1.5019867420196533,-5.069509506225586],\"yaxis\":\"y\",\"type\":\"scatter\"}],                        {\"template\":{\"data\":{\"histogram2dcontour\":[{\"type\":\"histogram2dcontour\",\"colorbar\":{\"outlinewidth\":0,\"ticks\":\"\"},\"colorscale\":[[0.0,\"#0d0887\"],[0.1111111111111111,\"#46039f\"],[0.2222222222222222,\"#7201a8\"],[0.3333333333333333,\"#9c179e\"],[0.4444444444444444,\"#bd3786\"],[0.5555555555555556,\"#d8576b\"],[0.6666666666666666,\"#ed7953\"],[0.7777777777777778,\"#fb9f3a\"],[0.8888888888888888,\"#fdca26\"],[1.0,\"#f0f921\"]]}],\"choropleth\":[{\"type\":\"choropleth\",\"colorbar\":{\"outlinewidth\":0,\"ticks\":\"\"}}],\"histogram2d\":[{\"type\":\"histogram2d\",\"colorbar\":{\"outlinewidth\":0,\"ticks\":\"\"},\"colorscale\":[[0.0,\"#0d0887\"],[0.1111111111111111,\"#46039f\"],[0.2222222222222222,\"#7201a8\"],[0.3333333333333333,\"#9c179e\"],[0.4444444444444444,\"#bd3786\"],[0.5555555555555556,\"#d8576b\"],[0.6666666666666666,\"#ed7953\"],[0.7777777777777778,\"#fb9f3a\"],[0.8888888888888888,\"#fdca26\"],[1.0,\"#f0f921\"]]}],\"heatmap\":[{\"type\":\"heatmap\",\"colorbar\":{\"outlinewidth\":0,\"ticks\":\"\"},\"colorscale\":[[0.0,\"#0d0887\"],[0.1111111111111111,\"#46039f\"],[0.2222222222222222,\"#7201a8\"],[0.3333333333333333,\"#9c179e\"],[0.4444444444444444,\"#bd3786\"],[0.5555555555555556,\"#d8576b\"],[0.6666666666666666,\"#ed7953\"],[0.7777777777777778,\"#fb9f3a\"],[0.8888888888888888,\"#fdca26\"],[1.0,\"#f0f921\"]]}],\"heatmapgl\":[{\"type\":\"heatmapgl\",\"colorbar\":{\"outlinewidth\":0,\"ticks\":\"\"},\"colorscale\":[[0.0,\"#0d0887\"],[0.1111111111111111,\"#46039f\"],[0.2222222222222222,\"#7201a8\"],[0.3333333333333333,\"#9c179e\"],[0.4444444444444444,\"#bd3786\"],[0.5555555555555556,\"#d8576b\"],[0.6666666666666666,\"#ed7953\"],[0.7777777777777778,\"#fb9f3a\"],[0.8888888888888888,\"#fdca26\"],[1.0,\"#f0f921\"]]}],\"contourcarpet\":[{\"type\":\"contourcarpet\",\"colorbar\":{\"outlinewidth\":0,\"ticks\":\"\"}}],\"contour\":[{\"type\":\"contour\",\"colorbar\":{\"outlinewidth\":0,\"ticks\":\"\"},\"colorscale\":[[0.0,\"#0d0887\"],[0.1111111111111111,\"#46039f\"],[0.2222222222222222,\"#7201a8\"],[0.3333333333333333,\"#9c179e\"],[0.4444444444444444,\"#bd3786\"],[0.5555555555555556,\"#d8576b\"],[0.6666666666666666,\"#ed7953\"],[0.7777777777777778,\"#fb9f3a\"],[0.8888888888888888,\"#fdca26\"],[1.0,\"#f0f921\"]]}],\"surface\":[{\"type\":\"surface\",\"colorbar\":{\"outlinewidth\":0,\"ticks\":\"\"},\"colorscale\":[[0.0,\"#0d0887\"],[0.1111111111111111,\"#46039f\"],[0.2222222222222222,\"#7201a8\"],[0.3333333333333333,\"#9c179e\"],[0.4444444444444444,\"#bd3786\"],[0.5555555555555556,\"#d8576b\"],[0.6666666666666666,\"#ed7953\"],[0.7777777777777778,\"#fb9f3a\"],[0.8888888888888888,\"#fdca26\"],[1.0,\"#f0f921\"]]}],\"mesh3d\":[{\"type\":\"mesh3d\",\"colorbar\":{\"outlinewidth\":0,\"ticks\":\"\"}}],\"scatter\":[{\"fillpattern\":{\"fillmode\":\"overlay\",\"size\":10,\"solidity\":0.2},\"type\":\"scatter\"}],\"parcoords\":[{\"type\":\"parcoords\",\"line\":{\"colorbar\":{\"outlinewidth\":0,\"ticks\":\"\"}}}],\"scatterpolargl\":[{\"type\":\"scatterpolargl\",\"marker\":{\"colorbar\":{\"outlinewidth\":0,\"ticks\":\"\"}}}],\"bar\":[{\"error_x\":{\"color\":\"#2a3f5f\"},\"error_y\":{\"color\":\"#2a3f5f\"},\"marker\":{\"line\":{\"color\":\"#E5ECF6\",\"width\":0.5},\"pattern\":{\"fillmode\":\"overlay\",\"size\":10,\"solidity\":0.2}},\"type\":\"bar\"}],\"scattergeo\":[{\"type\":\"scattergeo\",\"marker\":{\"colorbar\":{\"outlinewidth\":0,\"ticks\":\"\"}}}],\"scatterpolar\":[{\"type\":\"scatterpolar\",\"marker\":{\"colorbar\":{\"outlinewidth\":0,\"ticks\":\"\"}}}],\"histogram\":[{\"marker\":{\"pattern\":{\"fillmode\":\"overlay\",\"size\":10,\"solidity\":0.2}},\"type\":\"histogram\"}],\"scattergl\":[{\"type\":\"scattergl\",\"marker\":{\"colorbar\":{\"outlinewidth\":0,\"ticks\":\"\"}}}],\"scatter3d\":[{\"type\":\"scatter3d\",\"line\":{\"colorbar\":{\"outlinewidth\":0,\"ticks\":\"\"}},\"marker\":{\"colorbar\":{\"outlinewidth\":0,\"ticks\":\"\"}}}],\"scattermapbox\":[{\"type\":\"scattermapbox\",\"marker\":{\"colorbar\":{\"outlinewidth\":0,\"ticks\":\"\"}}}],\"scatterternary\":[{\"type\":\"scatterternary\",\"marker\":{\"colorbar\":{\"outlinewidth\":0,\"ticks\":\"\"}}}],\"scattercarpet\":[{\"type\":\"scattercarpet\",\"marker\":{\"colorbar\":{\"outlinewidth\":0,\"ticks\":\"\"}}}],\"carpet\":[{\"aaxis\":{\"endlinecolor\":\"#2a3f5f\",\"gridcolor\":\"white\",\"linecolor\":\"white\",\"minorgridcolor\":\"white\",\"startlinecolor\":\"#2a3f5f\"},\"baxis\":{\"endlinecolor\":\"#2a3f5f\",\"gridcolor\":\"white\",\"linecolor\":\"white\",\"minorgridcolor\":\"white\",\"startlinecolor\":\"#2a3f5f\"},\"type\":\"carpet\"}],\"table\":[{\"cells\":{\"fill\":{\"color\":\"#EBF0F8\"},\"line\":{\"color\":\"white\"}},\"header\":{\"fill\":{\"color\":\"#C8D4E3\"},\"line\":{\"color\":\"white\"}},\"type\":\"table\"}],\"barpolar\":[{\"marker\":{\"line\":{\"color\":\"#E5ECF6\",\"width\":0.5},\"pattern\":{\"fillmode\":\"overlay\",\"size\":10,\"solidity\":0.2}},\"type\":\"barpolar\"}],\"pie\":[{\"automargin\":true,\"type\":\"pie\"}]},\"layout\":{\"autotypenumbers\":\"strict\",\"colorway\":[\"#636efa\",\"#EF553B\",\"#00cc96\",\"#ab63fa\",\"#FFA15A\",\"#19d3f3\",\"#FF6692\",\"#B6E880\",\"#FF97FF\",\"#FECB52\"],\"font\":{\"color\":\"#2a3f5f\"},\"hovermode\":\"closest\",\"hoverlabel\":{\"align\":\"left\"},\"paper_bgcolor\":\"white\",\"plot_bgcolor\":\"#E5ECF6\",\"polar\":{\"bgcolor\":\"#E5ECF6\",\"angularaxis\":{\"gridcolor\":\"white\",\"linecolor\":\"white\",\"ticks\":\"\"},\"radialaxis\":{\"gridcolor\":\"white\",\"linecolor\":\"white\",\"ticks\":\"\"}},\"ternary\":{\"bgcolor\":\"#E5ECF6\",\"aaxis\":{\"gridcolor\":\"white\",\"linecolor\":\"white\",\"ticks\":\"\"},\"baxis\":{\"gridcolor\":\"white\",\"linecolor\":\"white\",\"ticks\":\"\"},\"caxis\":{\"gridcolor\":\"white\",\"linecolor\":\"white\",\"ticks\":\"\"}},\"coloraxis\":{\"colorbar\":{\"outlinewidth\":0,\"ticks\":\"\"}},\"colorscale\":{\"sequential\":[[0.0,\"#0d0887\"],[0.1111111111111111,\"#46039f\"],[0.2222222222222222,\"#7201a8\"],[0.3333333333333333,\"#9c179e\"],[0.4444444444444444,\"#bd3786\"],[0.5555555555555556,\"#d8576b\"],[0.6666666666666666,\"#ed7953\"],[0.7777777777777778,\"#fb9f3a\"],[0.8888888888888888,\"#fdca26\"],[1.0,\"#f0f921\"]],\"sequentialminus\":[[0.0,\"#0d0887\"],[0.1111111111111111,\"#46039f\"],[0.2222222222222222,\"#7201a8\"],[0.3333333333333333,\"#9c179e\"],[0.4444444444444444,\"#bd3786\"],[0.5555555555555556,\"#d8576b\"],[0.6666666666666666,\"#ed7953\"],[0.7777777777777778,\"#fb9f3a\"],[0.8888888888888888,\"#fdca26\"],[1.0,\"#f0f921\"]],\"diverging\":[[0,\"#8e0152\"],[0.1,\"#c51b7d\"],[0.2,\"#de77ae\"],[0.3,\"#f1b6da\"],[0.4,\"#fde0ef\"],[0.5,\"#f7f7f7\"],[0.6,\"#e6f5d0\"],[0.7,\"#b8e186\"],[0.8,\"#7fbc41\"],[0.9,\"#4d9221\"],[1,\"#276419\"]]},\"xaxis\":{\"gridcolor\":\"white\",\"linecolor\":\"white\",\"ticks\":\"\",\"title\":{\"standoff\":15},\"zerolinecolor\":\"white\",\"automargin\":true,\"zerolinewidth\":2},\"yaxis\":{\"gridcolor\":\"white\",\"linecolor\":\"white\",\"ticks\":\"\",\"title\":{\"standoff\":15},\"zerolinecolor\":\"white\",\"automargin\":true,\"zerolinewidth\":2},\"scene\":{\"xaxis\":{\"backgroundcolor\":\"#E5ECF6\",\"gridcolor\":\"white\",\"linecolor\":\"white\",\"showbackground\":true,\"ticks\":\"\",\"zerolinecolor\":\"white\",\"gridwidth\":2},\"yaxis\":{\"backgroundcolor\":\"#E5ECF6\",\"gridcolor\":\"white\",\"linecolor\":\"white\",\"showbackground\":true,\"ticks\":\"\",\"zerolinecolor\":\"white\",\"gridwidth\":2},\"zaxis\":{\"backgroundcolor\":\"#E5ECF6\",\"gridcolor\":\"white\",\"linecolor\":\"white\",\"showbackground\":true,\"ticks\":\"\",\"zerolinecolor\":\"white\",\"gridwidth\":2}},\"shapedefaults\":{\"line\":{\"color\":\"#2a3f5f\"}},\"annotationdefaults\":{\"arrowcolor\":\"#2a3f5f\",\"arrowhead\":0,\"arrowwidth\":1},\"geo\":{\"bgcolor\":\"white\",\"landcolor\":\"#E5ECF6\",\"subunitcolor\":\"white\",\"showland\":true,\"showlakes\":true,\"lakecolor\":\"white\"},\"title\":{\"x\":0.05},\"mapbox\":{\"style\":\"light\"}}},\"xaxis\":{\"anchor\":\"y\",\"domain\":[0.0,1.0],\"title\":{\"text\":\"x\"}},\"yaxis\":{\"anchor\":\"x\",\"domain\":[0.0,1.0],\"title\":{\"text\":\"y\"}},\"legend\":{\"tracegroupgap\":0},\"margin\":{\"t\":60}},                        {\"responsive\": true}                    ).then(function(){\n",
              "                            \n",
              "var gd = document.getElementById('55219b0b-8afc-438e-bf9e-0c3ec8831445');\n",
              "var x = new MutationObserver(function (mutations, observer) {{\n",
              "        var display = window.getComputedStyle(gd).display;\n",
              "        if (!display || display === 'none') {{\n",
              "            console.log([gd, 'removed!']);\n",
              "            Plotly.purge(gd);\n",
              "            observer.disconnect();\n",
              "        }}\n",
              "}});\n",
              "\n",
              "// Listen for the removal of the full notebook cells\n",
              "var notebookContainer = gd.closest('#notebook-container');\n",
              "if (notebookContainer) {{\n",
              "    x.observe(notebookContainer, {childList: true});\n",
              "}}\n",
              "\n",
              "// Listen for the clearing of the current output cell\n",
              "var outputEl = gd.closest('.output');\n",
              "if (outputEl) {{\n",
              "    x.observe(outputEl, {childList: true});\n",
              "}}\n",
              "\n",
              "                        })                };                            </script>        </div>\n",
              "</body>\n",
              "</html>"
            ]
          },
          "metadata": {}
        }
      ]
    },
    {
      "cell_type": "code",
      "source": [
        "# Graficar los embedddings en 3D\n",
        "\n",
        "vecs, labels = reduce_dimensions(w2v_model,3)\n",
        "\n",
        "fig = px.scatter_3d(x=vecs[:MAX_WORDS,0], y=vecs[:MAX_WORDS,1], z=vecs[:MAX_WORDS,2],text=labels[:MAX_WORDS])\n",
        "fig.update_traces(marker_size = 2)\n",
        "fig.show(renderer=\"colab\") # esto para plotly en colab"
      ],
      "metadata": {
        "colab": {
          "base_uri": "https://localhost:8080/",
          "height": 542
        },
        "id": "_55p-mexifP6",
        "outputId": "7061b421-d8e3-4ff5-edf4-e7c89a219ec8"
      },
      "execution_count": 31,
      "outputs": [
        {
          "output_type": "display_data",
          "data": {
            "text/html": [
              "<html>\n",
              "<head><meta charset=\"utf-8\" /></head>\n",
              "<body>\n",
              "    <div>            <script src=\"https://cdnjs.cloudflare.com/ajax/libs/mathjax/2.7.5/MathJax.js?config=TeX-AMS-MML_SVG\"></script><script type=\"text/javascript\">if (window.MathJax && window.MathJax.Hub && window.MathJax.Hub.Config) {window.MathJax.Hub.Config({SVG: {font: \"STIX-Web\"}});}</script>                <script type=\"text/javascript\">window.PlotlyConfig = {MathJaxConfig: 'local'};</script>\n",
              "        <script charset=\"utf-8\" src=\"https://cdn.plot.ly/plotly-2.24.1.min.js\"></script>                <div id=\"d5e9017b-61d7-47bc-b965-d1f0d6865b3c\" class=\"plotly-graph-div\" style=\"height:525px; width:100%;\"></div>            <script type=\"text/javascript\">                                    window.PLOTLYENV=window.PLOTLYENV || {};                                    if (document.getElementById(\"d5e9017b-61d7-47bc-b965-d1f0d6865b3c\")) {                    Plotly.newPlot(                        \"d5e9017b-61d7-47bc-b965-d1f0d6865b3c\",                        [{\"hovertemplate\":\"x=%{x}\\u003cbr\\u003ey=%{y}\\u003cbr\\u003ez=%{z}\\u003cbr\\u003etext=%{text}\\u003cextra\\u003e\\u003c\\u002fextra\\u003e\",\"legendgroup\":\"\",\"marker\":{\"color\":\"#636efa\",\"symbol\":\"circle\",\"size\":2},\"mode\":\"markers+text\",\"name\":\"\",\"scene\":\"scene\",\"showlegend\":false,\"text\":[\"que\",\"de\",\"la\",\"y\",\"a\",\"en\",\"el\",\"los\",\"no\",\"un\",\"es\",\"para\",\"lo\",\"por\",\"se\",\"una\",\"porque\",\"con\",\"las\",\"del\",\"m\\u00e1s\",\"argentina\",\"nos\",\"eso\",\"yo\",\"agua\",\"hay\",\"como\",\"todo\",\"todos\",\"nosotros\",\"pero\",\"les\",\"\\u2013\",\"me\",\"al\",\"ese\",\"su\",\"esa\",\"estamos\",\"este\",\"cuando\",\"mundo\",\"p\\u00fablica\",\"hacer\",\"son\",\"est\\u00e1\",\"tambi\\u00e9n\",\"universidad\",\"qu\\u00e9\",\"donde\",\"si\",\"era\",\"a\\u00f1os\",\"todas\",\"ustedes\",\"mil\",\"esto\",\"estado\",\"est\\u00e1n\",\"salud\",\"argentinos\",\"ser\",\"hoy\",\"fue\",\"sus\",\"pa\\u00eds\",\"aires\",\"tiene\",\"mucho\",\"buenos\",\"tenemos\",\"nacional\",\"muchas\",\"o\",\"obras\",\"ellos\",\"va\",\"tener\",\"problema\",\"obra\",\"sergio\",\"gracias\",\"verdad\",\"ac\\u00e1\",\"ahora\",\"vamos\",\"educaci\\u00f3n\",\"tiempo\",\"tienen\",\"muchos\",\"le\",\"mi\",\"aqu\\u00ed\",\"pido\",\"ha\",\"vez\",\"casas\",\"dos\",\"vida\",\"estar\",\"muy\",\"rioja\",\"pampa\",\"desarrollo\",\"somos\",\"hicimos\",\"c\\u00f3mo\",\"presidente\",\"quiero\",\"estudiar\",\"estoy\",\"sin\",\"all\\u00ed\",\"ya\",\"veces\",\"pandemia\",\"cosas\",\"debe\",\"esta\",\"pa\\u00edses\",\"pesos\",\"falta\",\"gobierno\",\"hemos\",\"uno\",\"d\\u00eda\",\"plata\",\"universidades\",\"mental\",\"crisis\",\"hablando\",\"p\\u00fablicas\",\"seguir\",\"haber\",\"millones\",\"mejor\",\"dicen\",\"casta\",\"van\",\"ver\",\"esos\",\"cada\",\"adem\\u00e1s\",\"han\",\"te\",\"hace\",\"algunos\",\"\\u00bfqu\\u00e9\",\"ciento\",\"sur\",\"sociedad\",\"bien\",\"nuestros\",\"importante\",\"poder\",\"parte\",\"cuenta\",\"gran\",\"ni\",\"\\u00bfy\",\"lugar\",\"ir\",\"vas\",\"edificio\",\"puede\",\"enorme\",\"pasa\",\"pueda\",\"hasta\",\"hicieron\",\"presente\",\"gente\",\"puedan\",\"esas\",\"otro\",\"a\\u00f1o\",\"deuda\",\"sea\",\"m\\u00ed\",\"vivimos\",\"dice\",\"siempre\",\"problemas\",\"nuestra\",\"mismo\",\"familias\",\"algo\",\"pueden\",\"tierra\",\"inflaci\\u00f3n\",\"acueducto\",\"favor\",\"digo\",\"clim\\u00e1tico\",\"as\\u00ed\",\"estas\",\"libertad\",\"alg\\u00fan\",\"despu\\u00e9s\"],\"x\":[13.495140075683594,-74.16618347167969,-23.086807250976562,-14.474987030029297,21.960670471191406,-5.352169036865234,69.9581298828125,50.9378662109375,-148.432861328125,-12.789512634277344,-33.11318588256836,-6.5588860511779785,-27.088159561157227,-7.13640832901001,8.8572416305542,-12.73709774017334,-20.911197662353516,-12.49199390411377,29.210277557373047,-7.084244251251221,-9.661477088928223,-27.277292251586914,-21.781496047973633,-31.89954376220703,-18.90668296813965,-9.620293617248535,5.180006980895996,-32.14588928222656,-17.398841857910156,-6.5612897872924805,-16.727752685546875,-39.336971282958984,-9.2196044921875,-50.03468704223633,-24.57790184020996,-14.565618515014648,-47.38263702392578,9.349607467651367,-25.719329833984375,-58.07822799682617,-60.66717529296875,-65.72109985351562,-40.40439987182617,-8.829717636108398,-34.10966873168945,58.23426055908203,-20.467788696289062,11.0088529586792,-20.70586585998535,-18.740976333618164,31.18695640563965,-58.00543975830078,-44.876258850097656,68.37742614746094,14.971550941467285,-50.042789459228516,25.520599365234375,-68.14971923828125,-37.622901916503906,12.191447257995605,-11.51762866973877,23.588401794433594,-59.6348762512207,-60.23796463012695,-31.741971969604492,-16.816160202026367,-38.60258483886719,-28.632530212402344,-9.511849403381348,15.082401275634766,-32.39510726928711,-38.167945861816406,31.66253662109375,42.3344612121582,-21.76491928100586,53.33148193359375,0.45707738399505615,-56.02647018432617,-73.02816772460938,-44.53762435913086,-23.930246353149414,-66.37535858154297,30.50550079345703,-89.6779556274414,-86.28584289550781,-35.02962112426758,-76.49922943115234,-6.610866069793701,-29.0300235748291,62.65935516357422,-57.9112663269043,-18.05753517150879,2.9704678058624268,-0.15039630234241486,-6.326655864715576,-1.7218610048294067,-47.483489990234375,12.727078437805176,16.543445587158203,-4.376466274261475,-39.23029708862305,-71.25088500976562,27.449169158935547,-19.64713478088379,-53.44621658325195,-74.86981201171875,-23.262292861938477,-41.99510192871094,-30.293405532836914,6.0978169441223145,1.7756084203720093,-45.9642333984375,-60.67269515991211,-9.113903999328613,20.314668655395508,-86.03755950927734,-13.46107006072998,21.122987747192383,-23.157089233398438,-18.247865676879883,27.288511276245117,18.128511428833008,-66.34458923339844,-23.40528678894043,7.563772201538086,-3.8188283443450928,39.02129364013672,-88.75457763671875,10.319892883300781,-9.479361534118652,4.051305294036865,-56.146461486816406,44.51628875732422,-48.72806167602539,-81.3351058959961,33.10457229614258,96.34874725341797,54.73779296875,22.320302963256836,-68.3249740600586,-59.660682678222656,58.213077545166016,-53.3092155456543,27.6872615814209,15.92823600769043,7.364983558654785,-61.40265655517578,77.12088775634766,-50.40510177612305,-2.3638060092926025,5.562525272369385,-57.73796081542969,-46.23320007324219,-9.321690559387207,-65.75282287597656,-17.126861572265625,34.55091857910156,-61.675331115722656,-17.864238739013672,-39.590579986572266,-40.09764862060547,42.518211364746094,46.11511993408203,2.529548406600952,25.98488426208496,17.701154708862305,-47.91157531738281,-25.722320556640625,-21.68317985534668,81.32105255126953,47.841915130615234,-21.296005249023438,4.911816596984863,32.345462799072266,-1.4851939678192139,-27.340063095092773,-13.406350135803223,3.018329381942749,-80.47920989990234,-9.722793579101562,-2.073988199234009,-3.132659673690796,-87.2738037109375,43.33251953125,55.39983367919922,-1.0616185665130615,65.8826904296875,-1.9606359004974365,-8.661468505859375,-24.50290298461914,-5.663511276245117,40.18434524536133,-35.04085922241211,-72.45610809326172,-39.462318420410156,92.09062194824219,56.40590286254883,19.157136917114258,17.553009033203125,-43.1873779296875],\"y\":[9.969218254089355,-12.50655746459961,-3.1959946155548096,11.144659996032715,32.720726013183594,-9.614529609680176,-92.7761459350586,-4.764655113220215,-20.189023971557617,31.547449111938477,-15.145211219787598,15.770081520080566,-5.136509418487549,-21.0045108795166,-3.358778953552246,4.992187023162842,-9.84255599975586,21.163724899291992,-22.71560287475586,1.329930305480957,13.28148365020752,3.8740601539611816,11.124153137207031,7.709831714630127,7.086760520935059,-22.365934371948242,-23.442195892333984,-13.263290405273438,-9.5593843460083,-9.010103225708008,-37.26605224609375,0.46685734391212463,-3.6073508262634277,2.8857357501983643,44.83060073852539,24.615619659423828,-5.863379001617432,49.27128219604492,11.635470390319824,-5.661091327667236,44.33541488647461,18.336763381958008,18.821306228637695,34.8988037109375,1.2619999647140503,2.9053258895874023,-23.243953704833984,20.303525924682617,-5.213051795959473,-35.00754165649414,41.903621673583984,-14.93091106414795,35.00104522705078,-18.885345458984375,23.408126831054688,31.558900833129883,31.7370662689209,-33.77151107788086,25.484416961669922,-33.867855072021484,42.7529182434082,-4.937508583068848,51.9418830871582,23.478376388549805,19.305530548095703,46.98356628417969,0.23258091509342194,23.75982666015625,-1.40184485912323,-60.352901458740234,30.435693740844727,-21.021217346191406,-52.44380569458008,5.392287731170654,55.42811965942383,-17.440528869628906,-43.24871063232422,67.97838592529297,-15.63529109954834,60.51750946044922,22.783369064331055,22.83457374572754,10.573297500610352,7.746257305145264,23.820070266723633,41.93037796020508,17.2795467376709,48.56797409057617,-2.652963876724243,-63.749324798583984,6.810892581939697,8.114045143127441,76.58805084228516,-27.993406295776367,-13.604677200317383,-61.179927825927734,6.879073619842529,33.95035934448242,64.44874572753906,93.1808090209961,-5.646145343780518,-53.62110900878906,64.25758361816406,23.730545043945312,10.74411392211914,-20.473031997680664,-20.094379425048828,-84.10054016113281,49.047523498535156,5.713691234588623,7.8088154792785645,41.443359375,21.73697853088379,70.76995086669922,14.200263977050781,22.640993118286133,18.72821807861328,27.38541603088379,61.255611419677734,60.68422317504883,-6.980604648590088,35.607200622558594,-0.5196728706359863,-11.989853858947754,-49.149723052978516,78.54364776611328,-38.31084442138672,0.04557441174983978,88.80896759033203,49.523468017578125,-12.411218643188477,79.61080932617188,-26.41994285583496,-40.028907775878906,-46.02640151977539,46.5020637512207,10.336243629455566,47.40933609008789,-67.19515228271484,-39.472999572753906,-8.315330505371094,-39.69541931152344,54.787620544433594,51.05453109741211,-18.343082427978516,4.379427433013916,-9.435783386230469,51.53996276855469,-50.59599685668945,-27.292560577392578,-4.051884174346924,-54.475032806396484,20.903778076171875,15.48449420928955,61.9630012512207,-46.47710037231445,-32.02761459350586,-57.754878997802734,-45.13153839111328,6.896860599517822,-20.692052841186523,25.661319732666016,30.40835189819336,37.75251388549805,-72.10456848144531,75.90455627441406,59.678279876708984,-13.007913589477539,47.5523567199707,30.670124053955078,-58.59493637084961,4.498913288116455,-21.163532257080078,19.614938735961914,21.351957321166992,-58.82234573364258,-20.38005256652832,33.8318977355957,49.77900314331055,81.13088989257812,-70.2407455444336,32.429481506347656,19.112163543701172,82.2787094116211,-11.056941032409668,-12.181249618530273,-45.1988525390625,10.163663864135742,21.07311248779297,-90.87855529785156,46.162025451660156,49.956512451171875,-85.87641906738281,39.610252380371094,-64.69561767578125,24.402353286743164,12.4071044921875,-5.815917491912842,83.13449096679688,69.8541030883789],\"z\":[9.685851097106934,125.72430419921875,-12.392867088317871,-22.840255737304688,-15.029775619506836,-38.03799819946289,-49.8670654296875,6.99512243270874,57.03691101074219,-2.1985998153686523,-7.247691631317139,-3.602034568786621,17.57530975341797,0.28380876779556274,19.50520133972168,-11.740069389343262,0.6924187541007996,10.307637214660645,-9.011407852172852,-30.142606735229492,-43.596595764160156,-27.129661560058594,21.786100387573242,-11.691411018371582,3.0584638118743896,-28.309206008911133,-35.56376647949219,-30.73724365234375,-24.188823699951172,-9.942648887634277,-29.473590850830078,-40.543582916259766,9.50635814666748,-24.797359466552734,32.61909866333008,-16.747257232666016,15.52522087097168,-48.80553436279297,-48.352386474609375,-38.599666595458984,-5.920173645019531,-16.254207611083984,-38.11614990234375,-34.818092346191406,4.094452381134033,-11.753602027893066,-13.412252426147461,6.129810810089111,-41.992713928222656,1.6147916316986084,-52.492034912109375,54.19026184082031,0.19292128086090088,-32.34617614746094,-8.004305839538574,-20.704011917114258,21.312686920166016,47.24169158935547,-56.13762664794922,-1.8031328916549683,-18.66765785217285,7.235625743865967,-37.640113830566406,-35.63163757324219,10.03264045715332,79.05496978759766,-60.754859924316406,-5.8985514640808105,-54.97977066040039,48.779136657714844,-11.590669631958008,23.793581008911133,-38.64543151855469,-18.49573516845703,14.846585273742676,-17.040149688720703,19.27300262451172,36.758026123046875,-51.14151382446289,-58.65946578979492,-30.166208267211914,23.10614013671875,-23.78080177307129,12.709434509277344,-5.3786845207214355,62.91913986206055,-51.186405181884766,-37.36918640136719,-90.50109100341797,-33.21830749511719,48.81886291503906,69.08248901367188,40.878910064697266,-51.78812026977539,16.976154327392578,30.225860595703125,-78.59123229980469,-67.39303588867188,-31.505489349365234,22.512853622436523,84.00141906738281,-1.8320192098617554,17.004592895507812,-63.62743377685547,-51.786407470703125,-15.153738975524902,12.998435974121094,-1.7291423082351685,-6.502535820007324,-64.6217041015625,66.32473754882812,38.31673812866211,-69.34041595458984,21.854692459106445,24.087238311767578,-28.118324279785156,36.356258392333984,-87.6898422241211,-46.57356643676758,61.356689453125,-17.009939193725586,30.963783264160156,-12.728429794311523,67.8961181640625,-75.60559844970703,-46.26056671142578,10.388187408447266,-36.58349609375,-30.80386734008789,-9.873705863952637,-60.823795318603516,-12.463233947753906,-19.994667053222656,34.11708068847656,-27.977102279663086,28.92009925842285,-9.085585594177246,25.61475944519043,17.208906173706055,-51.01441955566406,-66.51612091064453,-58.60004806518555,57.78383255004883,-71.65460205078125,54.45920181274414,95.0189208984375,-0.4773077964782715,13.807735443115234,60.519981384277344,-12.873961448669434,-22.771093368530273,-32.536495208740234,80.0248794555664,-96.11644744873047,-18.926023483276367,-14.2196626663208,-36.90589141845703,41.04146957397461,-82.71967315673828,62.85016632080078,-78.50614929199219,-52.864784240722656,-75.4316177368164,53.27399826049805,-39.26274871826172,-14.553427696228027,-0.2114303857088089,-58.56784439086914,-70.83216094970703,4.723546981811523,-50.03925323486328,49.973384857177734,86.34367370605469,-37.970394134521484,-30.052127838134766,-63.51239776611328,-86.08363342285156,7.744952201843262,-0.03886035829782486,-15.446191787719727,-65.73511505126953,-81.94190979003906,35.66130447387695,19.829984664916992,51.118080139160156,65.74906921386719,6.013755798339844,16.237382888793945,87.23258972167969,-20.99327850341797,23.295381546020508,4.228540420532227,22.126876831054688,-23.974742889404297,8.032185554504395,31.99055290222168,65.25958251953125,71.12471771240234,20.600610733032227,-34.2142219543457],\"type\":\"scatter3d\"}],                        {\"template\":{\"data\":{\"histogram2dcontour\":[{\"type\":\"histogram2dcontour\",\"colorbar\":{\"outlinewidth\":0,\"ticks\":\"\"},\"colorscale\":[[0.0,\"#0d0887\"],[0.1111111111111111,\"#46039f\"],[0.2222222222222222,\"#7201a8\"],[0.3333333333333333,\"#9c179e\"],[0.4444444444444444,\"#bd3786\"],[0.5555555555555556,\"#d8576b\"],[0.6666666666666666,\"#ed7953\"],[0.7777777777777778,\"#fb9f3a\"],[0.8888888888888888,\"#fdca26\"],[1.0,\"#f0f921\"]]}],\"choropleth\":[{\"type\":\"choropleth\",\"colorbar\":{\"outlinewidth\":0,\"ticks\":\"\"}}],\"histogram2d\":[{\"type\":\"histogram2d\",\"colorbar\":{\"outlinewidth\":0,\"ticks\":\"\"},\"colorscale\":[[0.0,\"#0d0887\"],[0.1111111111111111,\"#46039f\"],[0.2222222222222222,\"#7201a8\"],[0.3333333333333333,\"#9c179e\"],[0.4444444444444444,\"#bd3786\"],[0.5555555555555556,\"#d8576b\"],[0.6666666666666666,\"#ed7953\"],[0.7777777777777778,\"#fb9f3a\"],[0.8888888888888888,\"#fdca26\"],[1.0,\"#f0f921\"]]}],\"heatmap\":[{\"type\":\"heatmap\",\"colorbar\":{\"outlinewidth\":0,\"ticks\":\"\"},\"colorscale\":[[0.0,\"#0d0887\"],[0.1111111111111111,\"#46039f\"],[0.2222222222222222,\"#7201a8\"],[0.3333333333333333,\"#9c179e\"],[0.4444444444444444,\"#bd3786\"],[0.5555555555555556,\"#d8576b\"],[0.6666666666666666,\"#ed7953\"],[0.7777777777777778,\"#fb9f3a\"],[0.8888888888888888,\"#fdca26\"],[1.0,\"#f0f921\"]]}],\"heatmapgl\":[{\"type\":\"heatmapgl\",\"colorbar\":{\"outlinewidth\":0,\"ticks\":\"\"},\"colorscale\":[[0.0,\"#0d0887\"],[0.1111111111111111,\"#46039f\"],[0.2222222222222222,\"#7201a8\"],[0.3333333333333333,\"#9c179e\"],[0.4444444444444444,\"#bd3786\"],[0.5555555555555556,\"#d8576b\"],[0.6666666666666666,\"#ed7953\"],[0.7777777777777778,\"#fb9f3a\"],[0.8888888888888888,\"#fdca26\"],[1.0,\"#f0f921\"]]}],\"contourcarpet\":[{\"type\":\"contourcarpet\",\"colorbar\":{\"outlinewidth\":0,\"ticks\":\"\"}}],\"contour\":[{\"type\":\"contour\",\"colorbar\":{\"outlinewidth\":0,\"ticks\":\"\"},\"colorscale\":[[0.0,\"#0d0887\"],[0.1111111111111111,\"#46039f\"],[0.2222222222222222,\"#7201a8\"],[0.3333333333333333,\"#9c179e\"],[0.4444444444444444,\"#bd3786\"],[0.5555555555555556,\"#d8576b\"],[0.6666666666666666,\"#ed7953\"],[0.7777777777777778,\"#fb9f3a\"],[0.8888888888888888,\"#fdca26\"],[1.0,\"#f0f921\"]]}],\"surface\":[{\"type\":\"surface\",\"colorbar\":{\"outlinewidth\":0,\"ticks\":\"\"},\"colorscale\":[[0.0,\"#0d0887\"],[0.1111111111111111,\"#46039f\"],[0.2222222222222222,\"#7201a8\"],[0.3333333333333333,\"#9c179e\"],[0.4444444444444444,\"#bd3786\"],[0.5555555555555556,\"#d8576b\"],[0.6666666666666666,\"#ed7953\"],[0.7777777777777778,\"#fb9f3a\"],[0.8888888888888888,\"#fdca26\"],[1.0,\"#f0f921\"]]}],\"mesh3d\":[{\"type\":\"mesh3d\",\"colorbar\":{\"outlinewidth\":0,\"ticks\":\"\"}}],\"scatter\":[{\"fillpattern\":{\"fillmode\":\"overlay\",\"size\":10,\"solidity\":0.2},\"type\":\"scatter\"}],\"parcoords\":[{\"type\":\"parcoords\",\"line\":{\"colorbar\":{\"outlinewidth\":0,\"ticks\":\"\"}}}],\"scatterpolargl\":[{\"type\":\"scatterpolargl\",\"marker\":{\"colorbar\":{\"outlinewidth\":0,\"ticks\":\"\"}}}],\"bar\":[{\"error_x\":{\"color\":\"#2a3f5f\"},\"error_y\":{\"color\":\"#2a3f5f\"},\"marker\":{\"line\":{\"color\":\"#E5ECF6\",\"width\":0.5},\"pattern\":{\"fillmode\":\"overlay\",\"size\":10,\"solidity\":0.2}},\"type\":\"bar\"}],\"scattergeo\":[{\"type\":\"scattergeo\",\"marker\":{\"colorbar\":{\"outlinewidth\":0,\"ticks\":\"\"}}}],\"scatterpolar\":[{\"type\":\"scatterpolar\",\"marker\":{\"colorbar\":{\"outlinewidth\":0,\"ticks\":\"\"}}}],\"histogram\":[{\"marker\":{\"pattern\":{\"fillmode\":\"overlay\",\"size\":10,\"solidity\":0.2}},\"type\":\"histogram\"}],\"scattergl\":[{\"type\":\"scattergl\",\"marker\":{\"colorbar\":{\"outlinewidth\":0,\"ticks\":\"\"}}}],\"scatter3d\":[{\"type\":\"scatter3d\",\"line\":{\"colorbar\":{\"outlinewidth\":0,\"ticks\":\"\"}},\"marker\":{\"colorbar\":{\"outlinewidth\":0,\"ticks\":\"\"}}}],\"scattermapbox\":[{\"type\":\"scattermapbox\",\"marker\":{\"colorbar\":{\"outlinewidth\":0,\"ticks\":\"\"}}}],\"scatterternary\":[{\"type\":\"scatterternary\",\"marker\":{\"colorbar\":{\"outlinewidth\":0,\"ticks\":\"\"}}}],\"scattercarpet\":[{\"type\":\"scattercarpet\",\"marker\":{\"colorbar\":{\"outlinewidth\":0,\"ticks\":\"\"}}}],\"carpet\":[{\"aaxis\":{\"endlinecolor\":\"#2a3f5f\",\"gridcolor\":\"white\",\"linecolor\":\"white\",\"minorgridcolor\":\"white\",\"startlinecolor\":\"#2a3f5f\"},\"baxis\":{\"endlinecolor\":\"#2a3f5f\",\"gridcolor\":\"white\",\"linecolor\":\"white\",\"minorgridcolor\":\"white\",\"startlinecolor\":\"#2a3f5f\"},\"type\":\"carpet\"}],\"table\":[{\"cells\":{\"fill\":{\"color\":\"#EBF0F8\"},\"line\":{\"color\":\"white\"}},\"header\":{\"fill\":{\"color\":\"#C8D4E3\"},\"line\":{\"color\":\"white\"}},\"type\":\"table\"}],\"barpolar\":[{\"marker\":{\"line\":{\"color\":\"#E5ECF6\",\"width\":0.5},\"pattern\":{\"fillmode\":\"overlay\",\"size\":10,\"solidity\":0.2}},\"type\":\"barpolar\"}],\"pie\":[{\"automargin\":true,\"type\":\"pie\"}]},\"layout\":{\"autotypenumbers\":\"strict\",\"colorway\":[\"#636efa\",\"#EF553B\",\"#00cc96\",\"#ab63fa\",\"#FFA15A\",\"#19d3f3\",\"#FF6692\",\"#B6E880\",\"#FF97FF\",\"#FECB52\"],\"font\":{\"color\":\"#2a3f5f\"},\"hovermode\":\"closest\",\"hoverlabel\":{\"align\":\"left\"},\"paper_bgcolor\":\"white\",\"plot_bgcolor\":\"#E5ECF6\",\"polar\":{\"bgcolor\":\"#E5ECF6\",\"angularaxis\":{\"gridcolor\":\"white\",\"linecolor\":\"white\",\"ticks\":\"\"},\"radialaxis\":{\"gridcolor\":\"white\",\"linecolor\":\"white\",\"ticks\":\"\"}},\"ternary\":{\"bgcolor\":\"#E5ECF6\",\"aaxis\":{\"gridcolor\":\"white\",\"linecolor\":\"white\",\"ticks\":\"\"},\"baxis\":{\"gridcolor\":\"white\",\"linecolor\":\"white\",\"ticks\":\"\"},\"caxis\":{\"gridcolor\":\"white\",\"linecolor\":\"white\",\"ticks\":\"\"}},\"coloraxis\":{\"colorbar\":{\"outlinewidth\":0,\"ticks\":\"\"}},\"colorscale\":{\"sequential\":[[0.0,\"#0d0887\"],[0.1111111111111111,\"#46039f\"],[0.2222222222222222,\"#7201a8\"],[0.3333333333333333,\"#9c179e\"],[0.4444444444444444,\"#bd3786\"],[0.5555555555555556,\"#d8576b\"],[0.6666666666666666,\"#ed7953\"],[0.7777777777777778,\"#fb9f3a\"],[0.8888888888888888,\"#fdca26\"],[1.0,\"#f0f921\"]],\"sequentialminus\":[[0.0,\"#0d0887\"],[0.1111111111111111,\"#46039f\"],[0.2222222222222222,\"#7201a8\"],[0.3333333333333333,\"#9c179e\"],[0.4444444444444444,\"#bd3786\"],[0.5555555555555556,\"#d8576b\"],[0.6666666666666666,\"#ed7953\"],[0.7777777777777778,\"#fb9f3a\"],[0.8888888888888888,\"#fdca26\"],[1.0,\"#f0f921\"]],\"diverging\":[[0,\"#8e0152\"],[0.1,\"#c51b7d\"],[0.2,\"#de77ae\"],[0.3,\"#f1b6da\"],[0.4,\"#fde0ef\"],[0.5,\"#f7f7f7\"],[0.6,\"#e6f5d0\"],[0.7,\"#b8e186\"],[0.8,\"#7fbc41\"],[0.9,\"#4d9221\"],[1,\"#276419\"]]},\"xaxis\":{\"gridcolor\":\"white\",\"linecolor\":\"white\",\"ticks\":\"\",\"title\":{\"standoff\":15},\"zerolinecolor\":\"white\",\"automargin\":true,\"zerolinewidth\":2},\"yaxis\":{\"gridcolor\":\"white\",\"linecolor\":\"white\",\"ticks\":\"\",\"title\":{\"standoff\":15},\"zerolinecolor\":\"white\",\"automargin\":true,\"zerolinewidth\":2},\"scene\":{\"xaxis\":{\"backgroundcolor\":\"#E5ECF6\",\"gridcolor\":\"white\",\"linecolor\":\"white\",\"showbackground\":true,\"ticks\":\"\",\"zerolinecolor\":\"white\",\"gridwidth\":2},\"yaxis\":{\"backgroundcolor\":\"#E5ECF6\",\"gridcolor\":\"white\",\"linecolor\":\"white\",\"showbackground\":true,\"ticks\":\"\",\"zerolinecolor\":\"white\",\"gridwidth\":2},\"zaxis\":{\"backgroundcolor\":\"#E5ECF6\",\"gridcolor\":\"white\",\"linecolor\":\"white\",\"showbackground\":true,\"ticks\":\"\",\"zerolinecolor\":\"white\",\"gridwidth\":2}},\"shapedefaults\":{\"line\":{\"color\":\"#2a3f5f\"}},\"annotationdefaults\":{\"arrowcolor\":\"#2a3f5f\",\"arrowhead\":0,\"arrowwidth\":1},\"geo\":{\"bgcolor\":\"white\",\"landcolor\":\"#E5ECF6\",\"subunitcolor\":\"white\",\"showland\":true,\"showlakes\":true,\"lakecolor\":\"white\"},\"title\":{\"x\":0.05},\"mapbox\":{\"style\":\"light\"}}},\"scene\":{\"domain\":{\"x\":[0.0,1.0],\"y\":[0.0,1.0]},\"xaxis\":{\"title\":{\"text\":\"x\"}},\"yaxis\":{\"title\":{\"text\":\"y\"}},\"zaxis\":{\"title\":{\"text\":\"z\"}}},\"legend\":{\"tracegroupgap\":0},\"margin\":{\"t\":60}},                        {\"responsive\": true}                    ).then(function(){\n",
              "                            \n",
              "var gd = document.getElementById('d5e9017b-61d7-47bc-b965-d1f0d6865b3c');\n",
              "var x = new MutationObserver(function (mutations, observer) {{\n",
              "        var display = window.getComputedStyle(gd).display;\n",
              "        if (!display || display === 'none') {{\n",
              "            console.log([gd, 'removed!']);\n",
              "            Plotly.purge(gd);\n",
              "            observer.disconnect();\n",
              "        }}\n",
              "}});\n",
              "\n",
              "// Listen for the removal of the full notebook cells\n",
              "var notebookContainer = gd.closest('#notebook-container');\n",
              "if (notebookContainer) {{\n",
              "    x.observe(notebookContainer, {childList: true});\n",
              "}}\n",
              "\n",
              "// Listen for the clearing of the current output cell\n",
              "var outputEl = gd.closest('.output');\n",
              "if (outputEl) {{\n",
              "    x.observe(outputEl, {childList: true});\n",
              "}}\n",
              "\n",
              "                        })                };                            </script>        </div>\n",
              "</body>\n",
              "</html>"
            ]
          },
          "metadata": {}
        }
      ]
    },
    {
      "cell_type": "code",
      "source": [
        "# También se pueden guardar los vectores y labels como tsv para graficar en\n",
        "# http://projector.tensorflow.org/\n",
        "\n",
        "\n",
        "vectors = np.asarray(w2v_model.wv.vectors)\n",
        "labels = list(w2v_model.wv.index_to_key)\n",
        "\n",
        "np.savetxt(\"vectors.tsv\", vectors, delimiter=\"\\t\")\n",
        "\n",
        "with open(\"labels.tsv\", \"w\") as fp:\n",
        "    for item in labels:\n",
        "        fp.write(\"%s\\n\" % item)"
      ],
      "metadata": {
        "id": "lmqCbtsyiuKl"
      },
      "execution_count": 98,
      "outputs": []
    }
  ]
}